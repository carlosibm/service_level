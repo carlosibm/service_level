{
 "cells": [
  {
   "cell_type": "code",
   "execution_count": 45,
   "metadata": {},
   "outputs": [
    {
     "name": "stderr",
     "output_type": "stream",
     "text": [
      "2020-11-08 13:16:56,058 - iotfunctions.enginelog - DEBUG - Console logging has been configured. Level = 10\n"
     ]
    },
    {
     "name": "stdout",
     "output_type": "stream",
     "text": [
      "2020-11-08T13:16:56.058 DEBUG iotfunctions.enginelog.configure_console_logging Console logging has been configured. Level = 10\n"
     ]
    }
   ],
   "source": [
    "import json\n",
    "import logging\n",
    "from sqlalchemy import Column, Integer, String, Float, DateTime, Boolean, func\n",
    "from iotfunctions import bif\n",
    "from poc.functions import State_Timer\n",
    "from iotfunctions.metadata import EntityType\n",
    "from iotfunctions.db import Database\n",
    "from iotfunctions.base import BaseTransformer\n",
    "from iotfunctions.bif import EntityDataGenerator\n",
    "import datetime as dt\n",
    "from datetime import datetime\n",
    "\n",
    "import pandas as pd\n",
    "import numpy as np\n",
    "\n",
    "#from watson_machine_learning_client import WatsonMachineLearningAPIClient\n",
    "import pandas as pd\n",
    "from sklearn.ensemble import IsolationForest\n",
    "from sklearn.pipeline import Pipeline\n",
    "import sklearn\n",
    "from iotfunctions.enginelog import EngineLogging\n",
    "EngineLogging.configure_console_logging(logging.DEBUG)\n",
    "#logger = logging.getLogger(__name__)\n"
   ]
  },
  {
   "cell_type": "code",
   "execution_count": 46,
   "metadata": {
    "scrolled": false
   },
   "outputs": [
    {
     "name": "stderr",
     "output_type": "stream",
     "text": [
      "2020-11-08 13:16:59,275 - iotfunctions.db - INFO - Connection string for SqlAlchemy => db2): db2+ibm_db://bluadmin:9foE9O54ON9fOU61kvlmgjsnmL_Re@db2w-wxdibox.us-south.db2w.cloud.ibm.com:50001/BLUDB;SECURITY=ssl;\n"
     ]
    },
    {
     "name": "stdout",
     "output_type": "stream",
     "text": [
      "2020-11-08T13:16:59.275 INFO iotfunctions.db.__init__ Connection string for SqlAlchemy => db2): db2+ibm_db://bluadmin:9foE9O54ON9fOU61kvlmgjsnmL_Re@db2w-wxdibox.us-south.db2w.cloud.ibm.com:50001/BLUDB;SECURITY=ssl;\n"
     ]
    },
    {
     "name": "stderr",
     "output_type": "stream",
     "text": [
      "2020-11-08 13:16:59,277 - iotfunctions.db - DEBUG - created a CosClient object\n"
     ]
    },
    {
     "name": "stdout",
     "output_type": "stream",
     "text": [
      "2020-11-08T13:16:59.277 DEBUG iotfunctions.db.__init__ created a CosClient object\n"
     ]
    },
    {
     "name": "stderr",
     "output_type": "stream",
     "text": [
      "2020-11-08 13:17:01,181 - iotfunctions.db - DEBUG - Db connection established\n"
     ]
    },
    {
     "name": "stdout",
     "output_type": "stream",
     "text": [
      "2020-11-08T13:17:01.181 DEBUG iotfunctions.db.__init__ Db connection established\n"
     ]
    },
    {
     "name": "stderr",
     "output_type": "stream",
     "text": [
      "2020-11-08 13:17:03,045 - iotfunctions.db - DEBUG - http request successful. status 200\n"
     ]
    },
    {
     "name": "stdout",
     "output_type": "stream",
     "text": [
      "2020-11-08T13:17:03.045 DEBUG iotfunctions.db.http_request http request successful. status 200\n"
     ]
    }
   ],
   "source": [
    "# set Monitor credentials here\n",
    "credentials = {}\n",
    "with open('./scripts/credentials_Monitor-Demo2.json', encoding='utf-8') as F:\n",
    "    credentials = json.loads(F.read())\n",
    "db = Database(credentials = credentials)\n",
    "db_schema = None #  set if you are not using the default\n"
   ]
  },
  {
   "cell_type": "code",
   "execution_count": 47,
   "metadata": {
    "scrolled": true
   },
   "outputs": [
    {
     "name": "stdout",
     "output_type": "stream",
     "text": [
      "Debugging initial df format  \n"
     ]
    },
    {
     "name": "stderr",
     "output_type": "stream",
     "text": [
      "/Users/carlos.ferreira1ibm.com/ve/iot-python3/lib/python3.7/site-packages/sqlalchemy/engine/reflection.py:919: SAWarning: index key 'sqlnotapplicable' was not located in columns for table 'STATETEST'\n",
      "  \"columns for table '%s'\" % (flavor, c, table_name)\n",
      "2020-11-08 13:17:07,004 - root - DEBUG - Original Simulation Data to test downtime calculations\n"
     ]
    },
    {
     "name": "stdout",
     "output_type": "stream",
     "text": [
      "2020-11-08T13:17:07.004 DEBUG root.<module> Original Simulation Data to test downtime calculations\n"
     ]
    },
    {
     "name": "stderr",
     "output_type": "stream",
     "text": [
      "2020-11-08 13:17:07,015 - root - DEBUG - start df -----    deviceid       evt_timestamp devicetype logicalinterface_id eventtype  \\\n",
      "0    73001A 2020-10-04 07:26:00  StateTest                None      None   \n",
      "1    73001A 2020-10-04 07:31:00  StateTest                None      None   \n",
      "2    73001A 2020-10-04 07:46:00  StateTest                None      None   \n",
      "3    73000A 2020-05-04 21:27:00  StateTest                None      None   \n",
      "4    73000A 2020-05-04 21:32:00  StateTest                None      None   \n",
      "5    73000A 2020-05-04 21:37:00  StateTest                None      None   \n",
      "6    73000A 2020-05-04 21:42:00  StateTest                None      None   \n",
      "7    73001A 2020-10-04 07:51:00  StateTest                None      None   \n",
      "8    73001A 2020-10-04 08:00:00  StateTest                None      None   \n",
      "9    73001A 2020-10-04 07:31:00  StateTest                None      None   \n",
      "10   73001A 2020-10-04 07:46:00  StateTest                None      None   \n",
      "11   73001A 2020-10-04 07:51:00  StateTest                None      None   \n",
      "12   73001A 2020-10-04 08:01:00  StateTest                None      None   \n",
      "13   73000A 2020-05-04 21:37:00  StateTest                None      None   \n",
      "14   73000A 2020-05-04 21:42:00  StateTest                None      None   \n",
      "15   73000A 2020-05-04 21:47:00  StateTest                None      None   \n",
      "16   73000A 2020-05-04 21:52:00  StateTest                None      None   \n",
      "17   73001A 2020-10-04 08:06:00  StateTest                None      None   \n",
      "18   73001A 2020-10-04 08:11:00  StateTest                None      None   \n",
      "19   73001A 2020-10-04 07:31:00  StateTest                None      None   \n",
      "20   73001A 2020-10-04 07:46:00  StateTest                None      None   \n",
      "21   73001A 2020-10-04 07:51:00  StateTest                None      None   \n",
      "22   73001A 2020-10-04 08:01:00  StateTest                None      None   \n",
      "23   73000A 2020-05-04 21:37:00  StateTest                None      None   \n",
      "24   73000A 2020-05-04 21:42:00  StateTest                None      None   \n",
      "25   73000A 2020-05-04 21:47:00  StateTest                None      None   \n",
      "26   73000A 2020-05-04 21:52:00  StateTest                None      None   \n",
      "27   73001A 2020-10-04 08:06:00  StateTest                None      None   \n",
      "28   73001A 2020-10-04 08:11:00  StateTest                None      None   \n",
      "\n",
      "   format         updated_utc running_status              date  \n",
      "0    None 2020-10-04 07:26:00        RUNNING  10/04/2020 07:26  \n",
      "1    None 2020-10-04 07:31:00        STOPPED  10/04/2020 07:31  \n",
      "2    None 2020-10-04 07:46:00        RUNNING  10/04/2020 07:46  \n",
      "3    None 2020-05-04 21:27:00        RUNNING  05/04/2020 21:27  \n",
      "4    None 2020-05-04 21:32:00        STOPPED  05/04/2020 21:32  \n",
      "5    None 2020-05-04 21:37:00        RUNNING  05/04/2020 21:37  \n",
      "6    None 2020-05-04 21:42:00        RUNNING  05/04/2020 21:42  \n",
      "7    None 2020-10-04 07:51:00        STOPPED  10/04/2020 07:51  \n",
      "8    None 2020-10-04 08:00:00        RUNNING  10/04/2020 08:00  \n",
      "9    None 2020-10-04 07:31:00        RUNNING  10/04/2020 07:31  \n",
      "10   None 2020-10-04 07:46:00        RUNNING  10/04/2020 07:46  \n",
      "11   None 2020-10-04 07:51:00        RUNNING  10/04/2020 07:51  \n",
      "12   None 2020-10-04 08:01:00        STOPPED  10/04/2020 08:01  \n",
      "13   None 2020-05-04 21:37:00        STOPPED  05/04/2020 21:37  \n",
      "14   None 2020-05-04 21:42:00        STOPPED  05/04/2020 21:42  \n",
      "15   None 2020-05-04 21:47:00        RUNNING  05/04/2020 21:47  \n",
      "16   None 2020-05-04 21:52:00        STOPPED  05/04/2020 21:52  \n",
      "17   None 2020-10-04 08:06:00        RUNNING  10/04/2020 08:06  \n",
      "18   None 2020-10-04 08:11:00        RUNNING  10/04/2020 08:11  \n",
      "19   None 2020-10-04 07:31:00        RUNNING  10/04/2020 07:31  \n",
      "20   None 2020-10-04 07:46:00        RUNNING  10/04/2020 07:46  \n",
      "21   None 2020-10-04 07:51:00        RUNNING  10/04/2020 07:51  \n",
      "22   None 2020-10-04 08:01:00        STOPPED  10/04/2020 08:01  \n",
      "23   None 2020-05-04 21:37:00        STOPPED  05/04/2020 21:37  \n",
      "24   None 2020-05-04 21:42:00        STOPPED  05/04/2020 21:42  \n",
      "25   None 2020-05-04 21:47:00        RUNNING  05/04/2020 21:47  \n",
      "26   None 2020-05-04 21:52:00        STOPPED  05/04/2020 21:52  \n",
      "27   None 2020-10-04 08:06:00        RUNNING  10/04/2020 08:06  \n",
      "28   None 2020-10-04 08:11:00        RUNNING  10/04/2020 08:11   \n"
     ]
    },
    {
     "name": "stdout",
     "output_type": "stream",
     "text": [
      "2020-11-08T13:17:07.015 DEBUG root.<module> start df -----    deviceid       evt_timestamp devicetype logicalinterface_id eventtype  \\\n",
      "0    73001A 2020-10-04 07:26:00  StateTest                None      None   \n",
      "1    73001A 2020-10-04 07:31:00  StateTest                None      None   \n",
      "2    73001A 2020-10-04 07:46:00  StateTest                None      None   \n",
      "3    73000A 2020-05-04 21:27:00  StateTest                None      None   \n",
      "4    73000A 2020-05-04 21:32:00  StateTest                None      None   \n",
      "5    73000A 2020-05-04 21:37:00  StateTest                None      None   \n",
      "6    73000A 2020-05-04 21:42:00  StateTest                None      None   \n",
      "7    73001A 2020-10-04 07:51:00  StateTest                None      None   \n",
      "8    73001A 2020-10-04 08:00:00  StateTest                None      None   \n",
      "9    73001A 2020-10-04 07:31:00  StateTest                None      None   \n",
      "10   73001A 2020-10-04 07:46:00  StateTest                None      None   \n",
      "11   73001A 2020-10-04 07:51:00  StateTest                None      None   \n",
      "12   73001A 2020-10-04 08:01:00  StateTest                None      None   \n",
      "13   73000A 2020-05-04 21:37:00  StateTest                None      None   \n",
      "14   73000A 2020-05-04 21:42:00  StateTest                None      None   \n",
      "15   73000A 2020-05-04 21:47:00  StateTest                None      None   \n",
      "16   73000A 2020-05-04 21:52:00  StateTest                None      None   \n",
      "17   73001A 2020-10-04 08:06:00  StateTest                None      None   \n",
      "18   73001A 2020-10-04 08:11:00  StateTest                None      None   \n",
      "19   73001A 2020-10-04 07:31:00  StateTest                None      None   \n",
      "20   73001A 2020-10-04 07:46:00  StateTest                None      None   \n",
      "21   73001A 2020-10-04 07:51:00  StateTest                None      None   \n",
      "22   73001A 2020-10-04 08:01:00  StateTest                None      None   \n",
      "23   73000A 2020-05-04 21:37:00  StateTest                None      None   \n",
      "24   73000A 2020-05-04 21:42:00  StateTest                None      None   \n",
      "25   73000A 2020-05-04 21:47:00  StateTest                None      None   \n",
      "26   73000A 2020-05-04 21:52:00  StateTest                None      None   \n",
      "27   73001A 2020-10-04 08:06:00  StateTest                None      None   \n",
      "28   73001A 2020-10-04 08:11:00  StateTest                None      None   \n",
      "\n",
      "   format         updated_utc running_status              date  \n",
      "0    None 2020-10-04 07:26:00        RUNNING  10/04/2020 07:26  \n",
      "1    None 2020-10-04 07:31:00        STOPPED  10/04/2020 07:31  \n",
      "2    None 2020-10-04 07:46:00        RUNNING  10/04/2020 07:46  \n",
      "3    None 2020-05-04 21:27:00        RUNNING  05/04/2020 21:27  \n",
      "4    None 2020-05-04 21:32:00        STOPPED  05/04/2020 21:32  \n",
      "5    None 2020-05-04 21:37:00        RUNNING  05/04/2020 21:37  \n",
      "6    None 2020-05-04 21:42:00        RUNNING  05/04/2020 21:42  \n",
      "7    None 2020-10-04 07:51:00        STOPPED  10/04/2020 07:51  \n",
      "8    None 2020-10-04 08:00:00        RUNNING  10/04/2020 08:00  \n",
      "9    None 2020-10-04 07:31:00        RUNNING  10/04/2020 07:31  \n",
      "10   None 2020-10-04 07:46:00        RUNNING  10/04/2020 07:46  \n",
      "11   None 2020-10-04 07:51:00        RUNNING  10/04/2020 07:51  \n",
      "12   None 2020-10-04 08:01:00        STOPPED  10/04/2020 08:01  \n",
      "13   None 2020-05-04 21:37:00        STOPPED  05/04/2020 21:37  \n",
      "14   None 2020-05-04 21:42:00        STOPPED  05/04/2020 21:42  \n",
      "15   None 2020-05-04 21:47:00        RUNNING  05/04/2020 21:47  \n",
      "16   None 2020-05-04 21:52:00        STOPPED  05/04/2020 21:52  \n",
      "17   None 2020-10-04 08:06:00        RUNNING  10/04/2020 08:06  \n",
      "18   None 2020-10-04 08:11:00        RUNNING  10/04/2020 08:11  \n",
      "19   None 2020-10-04 07:31:00        RUNNING  10/04/2020 07:31  \n",
      "20   None 2020-10-04 07:46:00        RUNNING  10/04/2020 07:46  \n",
      "21   None 2020-10-04 07:51:00        RUNNING  10/04/2020 07:51  \n",
      "22   None 2020-10-04 08:01:00        STOPPED  10/04/2020 08:01  \n",
      "23   None 2020-05-04 21:37:00        STOPPED  05/04/2020 21:37  \n",
      "24   None 2020-05-04 21:42:00        STOPPED  05/04/2020 21:42  \n",
      "25   None 2020-05-04 21:47:00        RUNNING  05/04/2020 21:47  \n",
      "26   None 2020-05-04 21:52:00        STOPPED  05/04/2020 21:52  \n",
      "27   None 2020-10-04 08:06:00        RUNNING  10/04/2020 08:06  \n",
      "28   None 2020-10-04 08:11:00        RUNNING  10/04/2020 08:11   \n"
     ]
    },
    {
     "name": "stderr",
     "output_type": "stream",
     "text": [
      "2020-11-08 13:17:07,017 - root - DEBUG - start df ----- Index(['deviceid', 'evt_timestamp', 'devicetype', 'logicalinterface_id',\n",
      "       'eventtype', 'format', 'updated_utc', 'running_status', 'date'],\n",
      "      dtype='object') \n"
     ]
    },
    {
     "name": "stdout",
     "output_type": "stream",
     "text": [
      "2020-11-08T13:17:07.017 DEBUG root.<module> start df ----- Index(['deviceid', 'evt_timestamp', 'devicetype', 'logicalinterface_id',\n",
      "       'eventtype', 'format', 'updated_utc', 'running_status', 'date'],\n",
      "      dtype='object') \n"
     ]
    },
    {
     "name": "stderr",
     "output_type": "stream",
     "text": [
      "2020-11-08 13:17:07,018 - root - DEBUG - start state_column  ----- running_status \n"
     ]
    },
    {
     "name": "stdout",
     "output_type": "stream",
     "text": [
      "2020-11-08T13:17:07.018 DEBUG root.<module> start state_column  ----- running_status \n"
     ]
    },
    {
     "name": "stderr",
     "output_type": "stream",
     "text": [
      "2020-11-08 13:17:07,019 - root - DEBUG - start print state_metric_name RUNNING \n"
     ]
    },
    {
     "name": "stdout",
     "output_type": "stream",
     "text": [
      "2020-11-08T13:17:07.019 DEBUG root.<module> start print state_metric_name RUNNING \n"
     ]
    },
    {
     "name": "stderr",
     "output_type": "stream",
     "text": [
      "2020-11-08 13:17:07,020 - root - DEBUG - Reset index for local testing -----\n"
     ]
    },
    {
     "name": "stdout",
     "output_type": "stream",
     "text": [
      "2020-11-08T13:17:07.020 DEBUG root.<module> Reset index for local testing -----\n"
     ]
    },
    {
     "name": "stderr",
     "output_type": "stream",
     "text": [
      "2020-11-08 13:17:07,023 - root - DEBUG - List of Running Status\n"
     ]
    },
    {
     "name": "stdout",
     "output_type": "stream",
     "text": [
      "2020-11-08T13:17:07.023 DEBUG root.<module> List of Running Status\n"
     ]
    },
    {
     "name": "stderr",
     "output_type": "stream",
     "text": [
      "2020-11-08 13:17:07,024 - root - DEBUG - ['RUNNING' 'STOPPED']\n"
     ]
    },
    {
     "name": "stdout",
     "output_type": "stream",
     "text": [
      "2020-11-08T13:17:07.024 DEBUG root.<module> ['RUNNING' 'STOPPED']\n"
     ]
    },
    {
     "name": "stderr",
     "output_type": "stream",
     "text": [
      "2020-11-08 13:17:07,025 - root - DEBUG - Original Simulation Data looking at rows\n"
     ]
    },
    {
     "name": "stdout",
     "output_type": "stream",
     "text": [
      "2020-11-08T13:17:07.025 DEBUG root.<module> Original Simulation Data looking at rows\n"
     ]
    },
    {
     "name": "stderr",
     "output_type": "stream",
     "text": [
      "2020-11-08 13:17:07,027 - __main__ - DEBUG - original rows\n"
     ]
    },
    {
     "name": "stdout",
     "output_type": "stream",
     "text": [
      "2020-11-08T13:17:07.027 DEBUG __main__.<module> original rows\n"
     ]
    },
    {
     "name": "stderr",
     "output_type": "stream",
     "text": [
      "2020-11-08 13:17:07,028 - __main__ - DEBUG - index                                    0\n",
      "deviceid                            73001A\n",
      "evt_timestamp          2020-10-04 07:26:00\n",
      "devicetype                       StateTest\n",
      "logicalinterface_id                   None\n",
      "eventtype                             None\n",
      "format                                None\n",
      "updated_utc            2020-10-04 07:26:00\n",
      "running_status                     RUNNING\n",
      "date                      10/04/2020 07:26\n",
      "Name: 0, dtype: object\n"
     ]
    },
    {
     "name": "stdout",
     "output_type": "stream",
     "text": [
      "2020-11-08T13:17:07.028 DEBUG __main__.<module> index                                    0\n",
      "deviceid                            73001A\n",
      "evt_timestamp          2020-10-04 07:26:00\n",
      "devicetype                       StateTest\n",
      "logicalinterface_id                   None\n",
      "eventtype                             None\n",
      "format                                None\n",
      "updated_utc            2020-10-04 07:26:00\n",
      "running_status                     RUNNING\n",
      "date                      10/04/2020 07:26\n",
      "Name: 0, dtype: object\n"
     ]
    },
    {
     "name": "stderr",
     "output_type": "stream",
     "text": [
      "2020-11-08 13:17:07,031 - __main__ - DEBUG - original rows\n"
     ]
    },
    {
     "name": "stdout",
     "output_type": "stream",
     "text": [
      "2020-11-08T13:17:07.031 DEBUG __main__.<module> original rows\n"
     ]
    },
    {
     "name": "stderr",
     "output_type": "stream",
     "text": [
      "2020-11-08 13:17:07,032 - __main__ - DEBUG - index                                    1\n",
      "deviceid                            73001A\n",
      "evt_timestamp          2020-10-04 07:31:00\n",
      "devicetype                       StateTest\n",
      "logicalinterface_id                   None\n",
      "eventtype                             None\n",
      "format                                None\n",
      "updated_utc            2020-10-04 07:31:00\n",
      "running_status                     STOPPED\n",
      "date                      10/04/2020 07:31\n",
      "Name: 1, dtype: object\n"
     ]
    },
    {
     "name": "stdout",
     "output_type": "stream",
     "text": [
      "2020-11-08T13:17:07.032 DEBUG __main__.<module> index                                    1\n",
      "deviceid                            73001A\n",
      "evt_timestamp          2020-10-04 07:31:00\n",
      "devicetype                       StateTest\n",
      "logicalinterface_id                   None\n",
      "eventtype                             None\n",
      "format                                None\n",
      "updated_utc            2020-10-04 07:31:00\n",
      "running_status                     STOPPED\n",
      "date                      10/04/2020 07:31\n",
      "Name: 1, dtype: object\n"
     ]
    },
    {
     "name": "stderr",
     "output_type": "stream",
     "text": [
      "2020-11-08 13:17:07,035 - __main__ - DEBUG - original rows\n"
     ]
    },
    {
     "name": "stdout",
     "output_type": "stream",
     "text": [
      "2020-11-08T13:17:07.035 DEBUG __main__.<module> original rows\n"
     ]
    },
    {
     "name": "stderr",
     "output_type": "stream",
     "text": [
      "2020-11-08 13:17:07,035 - __main__ - DEBUG - index                                    2\n",
      "deviceid                            73001A\n",
      "evt_timestamp          2020-10-04 07:46:00\n",
      "devicetype                       StateTest\n",
      "logicalinterface_id                   None\n",
      "eventtype                             None\n",
      "format                                None\n",
      "updated_utc            2020-10-04 07:46:00\n",
      "running_status                     RUNNING\n",
      "date                      10/04/2020 07:46\n",
      "Name: 2, dtype: object\n"
     ]
    },
    {
     "name": "stdout",
     "output_type": "stream",
     "text": [
      "2020-11-08T13:17:07.035 DEBUG __main__.<module> index                                    2\n",
      "deviceid                            73001A\n",
      "evt_timestamp          2020-10-04 07:46:00\n",
      "devicetype                       StateTest\n",
      "logicalinterface_id                   None\n",
      "eventtype                             None\n",
      "format                                None\n",
      "updated_utc            2020-10-04 07:46:00\n",
      "running_status                     RUNNING\n",
      "date                      10/04/2020 07:46\n",
      "Name: 2, dtype: object\n"
     ]
    },
    {
     "name": "stderr",
     "output_type": "stream",
     "text": [
      "2020-11-08 13:17:07,038 - __main__ - DEBUG - original rows\n"
     ]
    },
    {
     "name": "stdout",
     "output_type": "stream",
     "text": [
      "2020-11-08T13:17:07.038 DEBUG __main__.<module> original rows\n"
     ]
    },
    {
     "name": "stderr",
     "output_type": "stream",
     "text": [
      "2020-11-08 13:17:07,039 - __main__ - DEBUG - index                                    3\n",
      "deviceid                            73000A\n",
      "evt_timestamp          2020-05-04 21:27:00\n",
      "devicetype                       StateTest\n",
      "logicalinterface_id                   None\n",
      "eventtype                             None\n",
      "format                                None\n",
      "updated_utc            2020-05-04 21:27:00\n",
      "running_status                     RUNNING\n",
      "date                      05/04/2020 21:27\n",
      "Name: 3, dtype: object\n"
     ]
    },
    {
     "name": "stdout",
     "output_type": "stream",
     "text": [
      "2020-11-08T13:17:07.039 DEBUG __main__.<module> index                                    3\n",
      "deviceid                            73000A\n",
      "evt_timestamp          2020-05-04 21:27:00\n",
      "devicetype                       StateTest\n",
      "logicalinterface_id                   None\n",
      "eventtype                             None\n",
      "format                                None\n",
      "updated_utc            2020-05-04 21:27:00\n",
      "running_status                     RUNNING\n",
      "date                      05/04/2020 21:27\n",
      "Name: 3, dtype: object\n"
     ]
    },
    {
     "name": "stderr",
     "output_type": "stream",
     "text": [
      "2020-11-08 13:17:07,042 - __main__ - DEBUG - original rows\n"
     ]
    },
    {
     "name": "stdout",
     "output_type": "stream",
     "text": [
      "2020-11-08T13:17:07.042 DEBUG __main__.<module> original rows\n"
     ]
    },
    {
     "name": "stderr",
     "output_type": "stream",
     "text": [
      "2020-11-08 13:17:07,043 - __main__ - DEBUG - index                                    4\n",
      "deviceid                            73000A\n",
      "evt_timestamp          2020-05-04 21:32:00\n",
      "devicetype                       StateTest\n",
      "logicalinterface_id                   None\n",
      "eventtype                             None\n",
      "format                                None\n",
      "updated_utc            2020-05-04 21:32:00\n",
      "running_status                     STOPPED\n",
      "date                      05/04/2020 21:32\n",
      "Name: 4, dtype: object\n"
     ]
    },
    {
     "name": "stdout",
     "output_type": "stream",
     "text": [
      "2020-11-08T13:17:07.043 DEBUG __main__.<module> index                                    4\n",
      "deviceid                            73000A\n",
      "evt_timestamp          2020-05-04 21:32:00\n",
      "devicetype                       StateTest\n",
      "logicalinterface_id                   None\n",
      "eventtype                             None\n",
      "format                                None\n",
      "updated_utc            2020-05-04 21:32:00\n",
      "running_status                     STOPPED\n",
      "date                      05/04/2020 21:32\n",
      "Name: 4, dtype: object\n"
     ]
    },
    {
     "name": "stderr",
     "output_type": "stream",
     "text": [
      "2020-11-08 13:17:07,045 - __main__ - DEBUG - original rows\n"
     ]
    },
    {
     "name": "stdout",
     "output_type": "stream",
     "text": [
      "2020-11-08T13:17:07.045 DEBUG __main__.<module> original rows\n"
     ]
    },
    {
     "name": "stderr",
     "output_type": "stream",
     "text": [
      "2020-11-08 13:17:07,046 - __main__ - DEBUG - index                                    5\n",
      "deviceid                            73000A\n",
      "evt_timestamp          2020-05-04 21:37:00\n",
      "devicetype                       StateTest\n",
      "logicalinterface_id                   None\n",
      "eventtype                             None\n",
      "format                                None\n",
      "updated_utc            2020-05-04 21:37:00\n",
      "running_status                     RUNNING\n",
      "date                      05/04/2020 21:37\n",
      "Name: 5, dtype: object\n"
     ]
    },
    {
     "name": "stdout",
     "output_type": "stream",
     "text": [
      "2020-11-08T13:17:07.046 DEBUG __main__.<module> index                                    5\n",
      "deviceid                            73000A\n",
      "evt_timestamp          2020-05-04 21:37:00\n",
      "devicetype                       StateTest\n",
      "logicalinterface_id                   None\n",
      "eventtype                             None\n",
      "format                                None\n",
      "updated_utc            2020-05-04 21:37:00\n",
      "running_status                     RUNNING\n",
      "date                      05/04/2020 21:37\n",
      "Name: 5, dtype: object\n"
     ]
    },
    {
     "name": "stderr",
     "output_type": "stream",
     "text": [
      "2020-11-08 13:17:07,048 - __main__ - DEBUG - original rows\n"
     ]
    },
    {
     "name": "stdout",
     "output_type": "stream",
     "text": [
      "2020-11-08T13:17:07.048 DEBUG __main__.<module> original rows\n"
     ]
    },
    {
     "name": "stderr",
     "output_type": "stream",
     "text": [
      "2020-11-08 13:17:07,049 - __main__ - DEBUG - index                                    6\n",
      "deviceid                            73000A\n",
      "evt_timestamp          2020-05-04 21:42:00\n",
      "devicetype                       StateTest\n",
      "logicalinterface_id                   None\n",
      "eventtype                             None\n",
      "format                                None\n",
      "updated_utc            2020-05-04 21:42:00\n",
      "running_status                     RUNNING\n",
      "date                      05/04/2020 21:42\n",
      "Name: 6, dtype: object\n"
     ]
    },
    {
     "name": "stdout",
     "output_type": "stream",
     "text": [
      "2020-11-08T13:17:07.049 DEBUG __main__.<module> index                                    6\n",
      "deviceid                            73000A\n",
      "evt_timestamp          2020-05-04 21:42:00\n",
      "devicetype                       StateTest\n",
      "logicalinterface_id                   None\n",
      "eventtype                             None\n",
      "format                                None\n",
      "updated_utc            2020-05-04 21:42:00\n",
      "running_status                     RUNNING\n",
      "date                      05/04/2020 21:42\n",
      "Name: 6, dtype: object\n"
     ]
    },
    {
     "name": "stderr",
     "output_type": "stream",
     "text": [
      "2020-11-08 13:17:07,051 - __main__ - DEBUG - original rows\n"
     ]
    },
    {
     "name": "stdout",
     "output_type": "stream",
     "text": [
      "2020-11-08T13:17:07.051 DEBUG __main__.<module> original rows\n"
     ]
    },
    {
     "name": "stderr",
     "output_type": "stream",
     "text": [
      "2020-11-08 13:17:07,052 - __main__ - DEBUG - index                                    7\n",
      "deviceid                            73001A\n",
      "evt_timestamp          2020-10-04 07:51:00\n",
      "devicetype                       StateTest\n",
      "logicalinterface_id                   None\n",
      "eventtype                             None\n",
      "format                                None\n",
      "updated_utc            2020-10-04 07:51:00\n",
      "running_status                     STOPPED\n",
      "date                      10/04/2020 07:51\n",
      "Name: 7, dtype: object\n"
     ]
    },
    {
     "name": "stdout",
     "output_type": "stream",
     "text": [
      "2020-11-08T13:17:07.052 DEBUG __main__.<module> index                                    7\n",
      "deviceid                            73001A\n",
      "evt_timestamp          2020-10-04 07:51:00\n",
      "devicetype                       StateTest\n",
      "logicalinterface_id                   None\n",
      "eventtype                             None\n",
      "format                                None\n",
      "updated_utc            2020-10-04 07:51:00\n",
      "running_status                     STOPPED\n",
      "date                      10/04/2020 07:51\n",
      "Name: 7, dtype: object\n"
     ]
    },
    {
     "name": "stderr",
     "output_type": "stream",
     "text": [
      "2020-11-08 13:17:07,054 - __main__ - DEBUG - original rows\n"
     ]
    },
    {
     "name": "stdout",
     "output_type": "stream",
     "text": [
      "2020-11-08T13:17:07.054 DEBUG __main__.<module> original rows\n"
     ]
    },
    {
     "name": "stderr",
     "output_type": "stream",
     "text": [
      "2020-11-08 13:17:07,055 - __main__ - DEBUG - index                                    8\n",
      "deviceid                            73001A\n",
      "evt_timestamp          2020-10-04 08:00:00\n",
      "devicetype                       StateTest\n",
      "logicalinterface_id                   None\n",
      "eventtype                             None\n",
      "format                                None\n",
      "updated_utc            2020-10-04 08:00:00\n",
      "running_status                     RUNNING\n",
      "date                      10/04/2020 08:00\n",
      "Name: 8, dtype: object\n"
     ]
    },
    {
     "name": "stdout",
     "output_type": "stream",
     "text": [
      "2020-11-08T13:17:07.055 DEBUG __main__.<module> index                                    8\n",
      "deviceid                            73001A\n",
      "evt_timestamp          2020-10-04 08:00:00\n",
      "devicetype                       StateTest\n",
      "logicalinterface_id                   None\n",
      "eventtype                             None\n",
      "format                                None\n",
      "updated_utc            2020-10-04 08:00:00\n",
      "running_status                     RUNNING\n",
      "date                      10/04/2020 08:00\n",
      "Name: 8, dtype: object\n"
     ]
    },
    {
     "name": "stderr",
     "output_type": "stream",
     "text": [
      "2020-11-08 13:17:07,057 - __main__ - DEBUG - original rows\n"
     ]
    },
    {
     "name": "stdout",
     "output_type": "stream",
     "text": [
      "2020-11-08T13:17:07.057 DEBUG __main__.<module> original rows\n"
     ]
    },
    {
     "name": "stderr",
     "output_type": "stream",
     "text": [
      "2020-11-08 13:17:07,058 - __main__ - DEBUG - index                                    9\n",
      "deviceid                            73001A\n",
      "evt_timestamp          2020-10-04 07:31:00\n",
      "devicetype                       StateTest\n",
      "logicalinterface_id                   None\n",
      "eventtype                             None\n",
      "format                                None\n",
      "updated_utc            2020-10-04 07:31:00\n",
      "running_status                     RUNNING\n",
      "date                      10/04/2020 07:31\n",
      "Name: 9, dtype: object\n"
     ]
    },
    {
     "name": "stdout",
     "output_type": "stream",
     "text": [
      "2020-11-08T13:17:07.058 DEBUG __main__.<module> index                                    9\n",
      "deviceid                            73001A\n",
      "evt_timestamp          2020-10-04 07:31:00\n",
      "devicetype                       StateTest\n",
      "logicalinterface_id                   None\n",
      "eventtype                             None\n",
      "format                                None\n",
      "updated_utc            2020-10-04 07:31:00\n",
      "running_status                     RUNNING\n",
      "date                      10/04/2020 07:31\n",
      "Name: 9, dtype: object\n"
     ]
    },
    {
     "name": "stderr",
     "output_type": "stream",
     "text": [
      "2020-11-08 13:17:07,060 - __main__ - DEBUG - original rows\n"
     ]
    },
    {
     "name": "stdout",
     "output_type": "stream",
     "text": [
      "2020-11-08T13:17:07.060 DEBUG __main__.<module> original rows\n"
     ]
    },
    {
     "name": "stderr",
     "output_type": "stream",
     "text": [
      "2020-11-08 13:17:07,061 - __main__ - DEBUG - index                                   10\n",
      "deviceid                            73001A\n",
      "evt_timestamp          2020-10-04 07:46:00\n",
      "devicetype                       StateTest\n",
      "logicalinterface_id                   None\n",
      "eventtype                             None\n",
      "format                                None\n",
      "updated_utc            2020-10-04 07:46:00\n",
      "running_status                     RUNNING\n",
      "date                      10/04/2020 07:46\n",
      "Name: 10, dtype: object\n"
     ]
    },
    {
     "name": "stdout",
     "output_type": "stream",
     "text": [
      "2020-11-08T13:17:07.061 DEBUG __main__.<module> index                                   10\n",
      "deviceid                            73001A\n",
      "evt_timestamp          2020-10-04 07:46:00\n",
      "devicetype                       StateTest\n",
      "logicalinterface_id                   None\n",
      "eventtype                             None\n",
      "format                                None\n",
      "updated_utc            2020-10-04 07:46:00\n",
      "running_status                     RUNNING\n",
      "date                      10/04/2020 07:46\n",
      "Name: 10, dtype: object\n"
     ]
    },
    {
     "name": "stderr",
     "output_type": "stream",
     "text": [
      "2020-11-08 13:17:07,064 - __main__ - DEBUG - original rows\n"
     ]
    },
    {
     "name": "stdout",
     "output_type": "stream",
     "text": [
      "2020-11-08T13:17:07.064 DEBUG __main__.<module> original rows\n"
     ]
    },
    {
     "name": "stderr",
     "output_type": "stream",
     "text": [
      "2020-11-08 13:17:07,065 - __main__ - DEBUG - index                                   11\n",
      "deviceid                            73001A\n",
      "evt_timestamp          2020-10-04 07:51:00\n",
      "devicetype                       StateTest\n",
      "logicalinterface_id                   None\n",
      "eventtype                             None\n",
      "format                                None\n",
      "updated_utc            2020-10-04 07:51:00\n",
      "running_status                     RUNNING\n",
      "date                      10/04/2020 07:51\n",
      "Name: 11, dtype: object\n"
     ]
    },
    {
     "name": "stdout",
     "output_type": "stream",
     "text": [
      "2020-11-08T13:17:07.065 DEBUG __main__.<module> index                                   11\n",
      "deviceid                            73001A\n",
      "evt_timestamp          2020-10-04 07:51:00\n",
      "devicetype                       StateTest\n",
      "logicalinterface_id                   None\n",
      "eventtype                             None\n",
      "format                                None\n",
      "updated_utc            2020-10-04 07:51:00\n",
      "running_status                     RUNNING\n",
      "date                      10/04/2020 07:51\n",
      "Name: 11, dtype: object\n"
     ]
    },
    {
     "name": "stderr",
     "output_type": "stream",
     "text": [
      "2020-11-08 13:17:07,067 - __main__ - DEBUG - original rows\n"
     ]
    },
    {
     "name": "stdout",
     "output_type": "stream",
     "text": [
      "2020-11-08T13:17:07.067 DEBUG __main__.<module> original rows\n"
     ]
    },
    {
     "name": "stderr",
     "output_type": "stream",
     "text": [
      "2020-11-08 13:17:07,068 - __main__ - DEBUG - index                                   12\n",
      "deviceid                            73001A\n",
      "evt_timestamp          2020-10-04 08:01:00\n",
      "devicetype                       StateTest\n",
      "logicalinterface_id                   None\n",
      "eventtype                             None\n",
      "format                                None\n",
      "updated_utc            2020-10-04 08:01:00\n",
      "running_status                     STOPPED\n",
      "date                      10/04/2020 08:01\n",
      "Name: 12, dtype: object\n"
     ]
    },
    {
     "name": "stdout",
     "output_type": "stream",
     "text": [
      "2020-11-08T13:17:07.068 DEBUG __main__.<module> index                                   12\n",
      "deviceid                            73001A\n",
      "evt_timestamp          2020-10-04 08:01:00\n",
      "devicetype                       StateTest\n",
      "logicalinterface_id                   None\n",
      "eventtype                             None\n",
      "format                                None\n",
      "updated_utc            2020-10-04 08:01:00\n",
      "running_status                     STOPPED\n",
      "date                      10/04/2020 08:01\n",
      "Name: 12, dtype: object\n"
     ]
    },
    {
     "name": "stderr",
     "output_type": "stream",
     "text": [
      "2020-11-08 13:17:07,070 - __main__ - DEBUG - original rows\n"
     ]
    },
    {
     "name": "stdout",
     "output_type": "stream",
     "text": [
      "2020-11-08T13:17:07.070 DEBUG __main__.<module> original rows\n"
     ]
    },
    {
     "name": "stderr",
     "output_type": "stream",
     "text": [
      "2020-11-08 13:17:07,071 - __main__ - DEBUG - index                                   13\n",
      "deviceid                            73000A\n",
      "evt_timestamp          2020-05-04 21:37:00\n",
      "devicetype                       StateTest\n",
      "logicalinterface_id                   None\n",
      "eventtype                             None\n",
      "format                                None\n",
      "updated_utc            2020-05-04 21:37:00\n",
      "running_status                     STOPPED\n",
      "date                      05/04/2020 21:37\n",
      "Name: 13, dtype: object\n"
     ]
    },
    {
     "name": "stdout",
     "output_type": "stream",
     "text": [
      "2020-11-08T13:17:07.071 DEBUG __main__.<module> index                                   13\n",
      "deviceid                            73000A\n",
      "evt_timestamp          2020-05-04 21:37:00\n",
      "devicetype                       StateTest\n",
      "logicalinterface_id                   None\n",
      "eventtype                             None\n",
      "format                                None\n",
      "updated_utc            2020-05-04 21:37:00\n",
      "running_status                     STOPPED\n",
      "date                      05/04/2020 21:37\n",
      "Name: 13, dtype: object\n"
     ]
    },
    {
     "name": "stderr",
     "output_type": "stream",
     "text": [
      "2020-11-08 13:17:07,074 - __main__ - DEBUG - original rows\n"
     ]
    },
    {
     "name": "stdout",
     "output_type": "stream",
     "text": [
      "2020-11-08T13:17:07.074 DEBUG __main__.<module> original rows\n"
     ]
    },
    {
     "name": "stderr",
     "output_type": "stream",
     "text": [
      "2020-11-08 13:17:07,074 - __main__ - DEBUG - index                                   14\n",
      "deviceid                            73000A\n",
      "evt_timestamp          2020-05-04 21:42:00\n",
      "devicetype                       StateTest\n",
      "logicalinterface_id                   None\n",
      "eventtype                             None\n",
      "format                                None\n",
      "updated_utc            2020-05-04 21:42:00\n",
      "running_status                     STOPPED\n",
      "date                      05/04/2020 21:42\n",
      "Name: 14, dtype: object\n"
     ]
    },
    {
     "name": "stdout",
     "output_type": "stream",
     "text": [
      "2020-11-08T13:17:07.074 DEBUG __main__.<module> index                                   14\n",
      "deviceid                            73000A\n",
      "evt_timestamp          2020-05-04 21:42:00\n",
      "devicetype                       StateTest\n",
      "logicalinterface_id                   None\n",
      "eventtype                             None\n",
      "format                                None\n",
      "updated_utc            2020-05-04 21:42:00\n",
      "running_status                     STOPPED\n",
      "date                      05/04/2020 21:42\n",
      "Name: 14, dtype: object\n"
     ]
    },
    {
     "name": "stderr",
     "output_type": "stream",
     "text": [
      "2020-11-08 13:17:07,077 - __main__ - DEBUG - original rows\n"
     ]
    },
    {
     "name": "stdout",
     "output_type": "stream",
     "text": [
      "2020-11-08T13:17:07.077 DEBUG __main__.<module> original rows\n"
     ]
    },
    {
     "name": "stderr",
     "output_type": "stream",
     "text": [
      "2020-11-08 13:17:07,077 - __main__ - DEBUG - index                                   15\n",
      "deviceid                            73000A\n",
      "evt_timestamp          2020-05-04 21:47:00\n",
      "devicetype                       StateTest\n",
      "logicalinterface_id                   None\n",
      "eventtype                             None\n",
      "format                                None\n",
      "updated_utc            2020-05-04 21:47:00\n",
      "running_status                     RUNNING\n",
      "date                      05/04/2020 21:47\n",
      "Name: 15, dtype: object\n"
     ]
    },
    {
     "name": "stdout",
     "output_type": "stream",
     "text": [
      "2020-11-08T13:17:07.077 DEBUG __main__.<module> index                                   15\n",
      "deviceid                            73000A\n",
      "evt_timestamp          2020-05-04 21:47:00\n",
      "devicetype                       StateTest\n",
      "logicalinterface_id                   None\n",
      "eventtype                             None\n",
      "format                                None\n",
      "updated_utc            2020-05-04 21:47:00\n",
      "running_status                     RUNNING\n",
      "date                      05/04/2020 21:47\n",
      "Name: 15, dtype: object\n"
     ]
    },
    {
     "name": "stderr",
     "output_type": "stream",
     "text": [
      "2020-11-08 13:17:07,080 - __main__ - DEBUG - original rows\n"
     ]
    },
    {
     "name": "stdout",
     "output_type": "stream",
     "text": [
      "2020-11-08T13:17:07.080 DEBUG __main__.<module> original rows\n"
     ]
    },
    {
     "name": "stderr",
     "output_type": "stream",
     "text": [
      "2020-11-08 13:17:07,080 - __main__ - DEBUG - index                                   16\n",
      "deviceid                            73000A\n",
      "evt_timestamp          2020-05-04 21:52:00\n",
      "devicetype                       StateTest\n",
      "logicalinterface_id                   None\n",
      "eventtype                             None\n",
      "format                                None\n",
      "updated_utc            2020-05-04 21:52:00\n",
      "running_status                     STOPPED\n",
      "date                      05/04/2020 21:52\n",
      "Name: 16, dtype: object\n"
     ]
    },
    {
     "name": "stdout",
     "output_type": "stream",
     "text": [
      "2020-11-08T13:17:07.080 DEBUG __main__.<module> index                                   16\n",
      "deviceid                            73000A\n",
      "evt_timestamp          2020-05-04 21:52:00\n",
      "devicetype                       StateTest\n",
      "logicalinterface_id                   None\n",
      "eventtype                             None\n",
      "format                                None\n",
      "updated_utc            2020-05-04 21:52:00\n",
      "running_status                     STOPPED\n",
      "date                      05/04/2020 21:52\n",
      "Name: 16, dtype: object\n"
     ]
    },
    {
     "name": "stderr",
     "output_type": "stream",
     "text": [
      "2020-11-08 13:17:07,083 - __main__ - DEBUG - original rows\n"
     ]
    },
    {
     "name": "stdout",
     "output_type": "stream",
     "text": [
      "2020-11-08T13:17:07.083 DEBUG __main__.<module> original rows\n"
     ]
    },
    {
     "name": "stderr",
     "output_type": "stream",
     "text": [
      "2020-11-08 13:17:07,084 - __main__ - DEBUG - index                                   17\n",
      "deviceid                            73001A\n",
      "evt_timestamp          2020-10-04 08:06:00\n",
      "devicetype                       StateTest\n",
      "logicalinterface_id                   None\n",
      "eventtype                             None\n",
      "format                                None\n",
      "updated_utc            2020-10-04 08:06:00\n",
      "running_status                     RUNNING\n",
      "date                      10/04/2020 08:06\n",
      "Name: 17, dtype: object\n"
     ]
    },
    {
     "name": "stdout",
     "output_type": "stream",
     "text": [
      "2020-11-08T13:17:07.084 DEBUG __main__.<module> index                                   17\n",
      "deviceid                            73001A\n",
      "evt_timestamp          2020-10-04 08:06:00\n",
      "devicetype                       StateTest\n",
      "logicalinterface_id                   None\n",
      "eventtype                             None\n",
      "format                                None\n",
      "updated_utc            2020-10-04 08:06:00\n",
      "running_status                     RUNNING\n",
      "date                      10/04/2020 08:06\n",
      "Name: 17, dtype: object\n"
     ]
    },
    {
     "name": "stderr",
     "output_type": "stream",
     "text": [
      "2020-11-08 13:17:07,087 - __main__ - DEBUG - original rows\n"
     ]
    },
    {
     "name": "stdout",
     "output_type": "stream",
     "text": [
      "2020-11-08T13:17:07.087 DEBUG __main__.<module> original rows\n"
     ]
    },
    {
     "name": "stderr",
     "output_type": "stream",
     "text": [
      "2020-11-08 13:17:07,088 - __main__ - DEBUG - index                                   18\n",
      "deviceid                            73001A\n",
      "evt_timestamp          2020-10-04 08:11:00\n",
      "devicetype                       StateTest\n",
      "logicalinterface_id                   None\n",
      "eventtype                             None\n",
      "format                                None\n",
      "updated_utc            2020-10-04 08:11:00\n",
      "running_status                     RUNNING\n",
      "date                      10/04/2020 08:11\n",
      "Name: 18, dtype: object\n"
     ]
    },
    {
     "name": "stdout",
     "output_type": "stream",
     "text": [
      "2020-11-08T13:17:07.088 DEBUG __main__.<module> index                                   18\n",
      "deviceid                            73001A\n",
      "evt_timestamp          2020-10-04 08:11:00\n",
      "devicetype                       StateTest\n",
      "logicalinterface_id                   None\n",
      "eventtype                             None\n",
      "format                                None\n",
      "updated_utc            2020-10-04 08:11:00\n",
      "running_status                     RUNNING\n",
      "date                      10/04/2020 08:11\n",
      "Name: 18, dtype: object\n"
     ]
    },
    {
     "name": "stderr",
     "output_type": "stream",
     "text": [
      "2020-11-08 13:17:07,091 - __main__ - DEBUG - original rows\n"
     ]
    },
    {
     "name": "stdout",
     "output_type": "stream",
     "text": [
      "2020-11-08T13:17:07.091 DEBUG __main__.<module> original rows\n"
     ]
    },
    {
     "name": "stderr",
     "output_type": "stream",
     "text": [
      "2020-11-08 13:17:07,092 - __main__ - DEBUG - index                                   19\n",
      "deviceid                            73001A\n",
      "evt_timestamp          2020-10-04 07:31:00\n",
      "devicetype                       StateTest\n",
      "logicalinterface_id                   None\n",
      "eventtype                             None\n",
      "format                                None\n",
      "updated_utc            2020-10-04 07:31:00\n",
      "running_status                     RUNNING\n",
      "date                      10/04/2020 07:31\n",
      "Name: 19, dtype: object\n"
     ]
    },
    {
     "name": "stdout",
     "output_type": "stream",
     "text": [
      "2020-11-08T13:17:07.092 DEBUG __main__.<module> index                                   19\n",
      "deviceid                            73001A\n",
      "evt_timestamp          2020-10-04 07:31:00\n",
      "devicetype                       StateTest\n",
      "logicalinterface_id                   None\n",
      "eventtype                             None\n",
      "format                                None\n",
      "updated_utc            2020-10-04 07:31:00\n",
      "running_status                     RUNNING\n",
      "date                      10/04/2020 07:31\n",
      "Name: 19, dtype: object\n"
     ]
    },
    {
     "name": "stderr",
     "output_type": "stream",
     "text": [
      "2020-11-08 13:17:07,095 - __main__ - DEBUG - original rows\n"
     ]
    },
    {
     "name": "stdout",
     "output_type": "stream",
     "text": [
      "2020-11-08T13:17:07.095 DEBUG __main__.<module> original rows\n"
     ]
    },
    {
     "name": "stderr",
     "output_type": "stream",
     "text": [
      "2020-11-08 13:17:07,096 - __main__ - DEBUG - index                                   20\n",
      "deviceid                            73001A\n",
      "evt_timestamp          2020-10-04 07:46:00\n",
      "devicetype                       StateTest\n",
      "logicalinterface_id                   None\n",
      "eventtype                             None\n",
      "format                                None\n",
      "updated_utc            2020-10-04 07:46:00\n",
      "running_status                     RUNNING\n",
      "date                      10/04/2020 07:46\n",
      "Name: 20, dtype: object\n"
     ]
    },
    {
     "name": "stdout",
     "output_type": "stream",
     "text": [
      "2020-11-08T13:17:07.096 DEBUG __main__.<module> index                                   20\n",
      "deviceid                            73001A\n",
      "evt_timestamp          2020-10-04 07:46:00\n",
      "devicetype                       StateTest\n",
      "logicalinterface_id                   None\n",
      "eventtype                             None\n",
      "format                                None\n",
      "updated_utc            2020-10-04 07:46:00\n",
      "running_status                     RUNNING\n",
      "date                      10/04/2020 07:46\n",
      "Name: 20, dtype: object\n"
     ]
    },
    {
     "name": "stderr",
     "output_type": "stream",
     "text": [
      "2020-11-08 13:17:07,099 - __main__ - DEBUG - original rows\n"
     ]
    },
    {
     "name": "stdout",
     "output_type": "stream",
     "text": [
      "2020-11-08T13:17:07.099 DEBUG __main__.<module> original rows\n"
     ]
    },
    {
     "name": "stderr",
     "output_type": "stream",
     "text": [
      "2020-11-08 13:17:07,100 - __main__ - DEBUG - index                                   21\n",
      "deviceid                            73001A\n",
      "evt_timestamp          2020-10-04 07:51:00\n",
      "devicetype                       StateTest\n",
      "logicalinterface_id                   None\n",
      "eventtype                             None\n",
      "format                                None\n",
      "updated_utc            2020-10-04 07:51:00\n",
      "running_status                     RUNNING\n",
      "date                      10/04/2020 07:51\n",
      "Name: 21, dtype: object\n"
     ]
    },
    {
     "name": "stdout",
     "output_type": "stream",
     "text": [
      "2020-11-08T13:17:07.100 DEBUG __main__.<module> index                                   21\n",
      "deviceid                            73001A\n",
      "evt_timestamp          2020-10-04 07:51:00\n",
      "devicetype                       StateTest\n",
      "logicalinterface_id                   None\n",
      "eventtype                             None\n",
      "format                                None\n",
      "updated_utc            2020-10-04 07:51:00\n",
      "running_status                     RUNNING\n",
      "date                      10/04/2020 07:51\n",
      "Name: 21, dtype: object\n"
     ]
    },
    {
     "name": "stderr",
     "output_type": "stream",
     "text": [
      "2020-11-08 13:17:07,103 - __main__ - DEBUG - original rows\n"
     ]
    },
    {
     "name": "stdout",
     "output_type": "stream",
     "text": [
      "2020-11-08T13:17:07.103 DEBUG __main__.<module> original rows\n"
     ]
    },
    {
     "name": "stderr",
     "output_type": "stream",
     "text": [
      "2020-11-08 13:17:07,104 - __main__ - DEBUG - index                                   22\n",
      "deviceid                            73001A\n",
      "evt_timestamp          2020-10-04 08:01:00\n",
      "devicetype                       StateTest\n",
      "logicalinterface_id                   None\n",
      "eventtype                             None\n",
      "format                                None\n",
      "updated_utc            2020-10-04 08:01:00\n",
      "running_status                     STOPPED\n",
      "date                      10/04/2020 08:01\n",
      "Name: 22, dtype: object\n"
     ]
    },
    {
     "name": "stdout",
     "output_type": "stream",
     "text": [
      "2020-11-08T13:17:07.104 DEBUG __main__.<module> index                                   22\n",
      "deviceid                            73001A\n",
      "evt_timestamp          2020-10-04 08:01:00\n",
      "devicetype                       StateTest\n",
      "logicalinterface_id                   None\n",
      "eventtype                             None\n",
      "format                                None\n",
      "updated_utc            2020-10-04 08:01:00\n",
      "running_status                     STOPPED\n",
      "date                      10/04/2020 08:01\n",
      "Name: 22, dtype: object\n"
     ]
    },
    {
     "name": "stderr",
     "output_type": "stream",
     "text": [
      "2020-11-08 13:17:07,108 - __main__ - DEBUG - original rows\n"
     ]
    },
    {
     "name": "stdout",
     "output_type": "stream",
     "text": [
      "2020-11-08T13:17:07.108 DEBUG __main__.<module> original rows\n"
     ]
    },
    {
     "name": "stderr",
     "output_type": "stream",
     "text": [
      "2020-11-08 13:17:07,109 - __main__ - DEBUG - index                                   23\n",
      "deviceid                            73000A\n",
      "evt_timestamp          2020-05-04 21:37:00\n",
      "devicetype                       StateTest\n",
      "logicalinterface_id                   None\n",
      "eventtype                             None\n",
      "format                                None\n",
      "updated_utc            2020-05-04 21:37:00\n",
      "running_status                     STOPPED\n",
      "date                      05/04/2020 21:37\n",
      "Name: 23, dtype: object\n"
     ]
    },
    {
     "name": "stdout",
     "output_type": "stream",
     "text": [
      "2020-11-08T13:17:07.109 DEBUG __main__.<module> index                                   23\n",
      "deviceid                            73000A\n",
      "evt_timestamp          2020-05-04 21:37:00\n",
      "devicetype                       StateTest\n",
      "logicalinterface_id                   None\n",
      "eventtype                             None\n",
      "format                                None\n",
      "updated_utc            2020-05-04 21:37:00\n",
      "running_status                     STOPPED\n",
      "date                      05/04/2020 21:37\n",
      "Name: 23, dtype: object\n"
     ]
    },
    {
     "name": "stderr",
     "output_type": "stream",
     "text": [
      "2020-11-08 13:17:07,112 - __main__ - DEBUG - original rows\n"
     ]
    },
    {
     "name": "stdout",
     "output_type": "stream",
     "text": [
      "2020-11-08T13:17:07.112 DEBUG __main__.<module> original rows\n"
     ]
    },
    {
     "name": "stderr",
     "output_type": "stream",
     "text": [
      "2020-11-08 13:17:07,113 - __main__ - DEBUG - index                                   24\n",
      "deviceid                            73000A\n",
      "evt_timestamp          2020-05-04 21:42:00\n",
      "devicetype                       StateTest\n",
      "logicalinterface_id                   None\n",
      "eventtype                             None\n",
      "format                                None\n",
      "updated_utc            2020-05-04 21:42:00\n",
      "running_status                     STOPPED\n",
      "date                      05/04/2020 21:42\n",
      "Name: 24, dtype: object\n"
     ]
    },
    {
     "name": "stdout",
     "output_type": "stream",
     "text": [
      "2020-11-08T13:17:07.113 DEBUG __main__.<module> index                                   24\n",
      "deviceid                            73000A\n",
      "evt_timestamp          2020-05-04 21:42:00\n",
      "devicetype                       StateTest\n",
      "logicalinterface_id                   None\n",
      "eventtype                             None\n",
      "format                                None\n",
      "updated_utc            2020-05-04 21:42:00\n",
      "running_status                     STOPPED\n",
      "date                      05/04/2020 21:42\n",
      "Name: 24, dtype: object\n"
     ]
    },
    {
     "name": "stderr",
     "output_type": "stream",
     "text": [
      "2020-11-08 13:17:07,115 - __main__ - DEBUG - original rows\n"
     ]
    },
    {
     "name": "stdout",
     "output_type": "stream",
     "text": [
      "2020-11-08T13:17:07.115 DEBUG __main__.<module> original rows\n"
     ]
    },
    {
     "name": "stderr",
     "output_type": "stream",
     "text": [
      "2020-11-08 13:17:07,116 - __main__ - DEBUG - index                                   25\n",
      "deviceid                            73000A\n",
      "evt_timestamp          2020-05-04 21:47:00\n",
      "devicetype                       StateTest\n",
      "logicalinterface_id                   None\n",
      "eventtype                             None\n",
      "format                                None\n",
      "updated_utc            2020-05-04 21:47:00\n",
      "running_status                     RUNNING\n",
      "date                      05/04/2020 21:47\n",
      "Name: 25, dtype: object\n"
     ]
    },
    {
     "name": "stdout",
     "output_type": "stream",
     "text": [
      "2020-11-08T13:17:07.116 DEBUG __main__.<module> index                                   25\n",
      "deviceid                            73000A\n",
      "evt_timestamp          2020-05-04 21:47:00\n",
      "devicetype                       StateTest\n",
      "logicalinterface_id                   None\n",
      "eventtype                             None\n",
      "format                                None\n",
      "updated_utc            2020-05-04 21:47:00\n",
      "running_status                     RUNNING\n",
      "date                      05/04/2020 21:47\n",
      "Name: 25, dtype: object\n"
     ]
    },
    {
     "name": "stderr",
     "output_type": "stream",
     "text": [
      "2020-11-08 13:17:07,118 - __main__ - DEBUG - original rows\n"
     ]
    },
    {
     "name": "stdout",
     "output_type": "stream",
     "text": [
      "2020-11-08T13:17:07.118 DEBUG __main__.<module> original rows\n"
     ]
    },
    {
     "name": "stderr",
     "output_type": "stream",
     "text": [
      "2020-11-08 13:17:07,119 - __main__ - DEBUG - index                                   26\n",
      "deviceid                            73000A\n",
      "evt_timestamp          2020-05-04 21:52:00\n",
      "devicetype                       StateTest\n",
      "logicalinterface_id                   None\n",
      "eventtype                             None\n",
      "format                                None\n",
      "updated_utc            2020-05-04 21:52:00\n",
      "running_status                     STOPPED\n",
      "date                      05/04/2020 21:52\n",
      "Name: 26, dtype: object\n"
     ]
    },
    {
     "name": "stdout",
     "output_type": "stream",
     "text": [
      "2020-11-08T13:17:07.119 DEBUG __main__.<module> index                                   26\n",
      "deviceid                            73000A\n",
      "evt_timestamp          2020-05-04 21:52:00\n",
      "devicetype                       StateTest\n",
      "logicalinterface_id                   None\n",
      "eventtype                             None\n",
      "format                                None\n",
      "updated_utc            2020-05-04 21:52:00\n",
      "running_status                     STOPPED\n",
      "date                      05/04/2020 21:52\n",
      "Name: 26, dtype: object\n"
     ]
    },
    {
     "name": "stderr",
     "output_type": "stream",
     "text": [
      "2020-11-08 13:17:07,121 - __main__ - DEBUG - original rows\n"
     ]
    },
    {
     "name": "stdout",
     "output_type": "stream",
     "text": [
      "2020-11-08T13:17:07.121 DEBUG __main__.<module> original rows\n"
     ]
    },
    {
     "name": "stderr",
     "output_type": "stream",
     "text": [
      "2020-11-08 13:17:07,121 - __main__ - DEBUG - index                                   27\n",
      "deviceid                            73001A\n",
      "evt_timestamp          2020-10-04 08:06:00\n",
      "devicetype                       StateTest\n",
      "logicalinterface_id                   None\n",
      "eventtype                             None\n",
      "format                                None\n",
      "updated_utc            2020-10-04 08:06:00\n",
      "running_status                     RUNNING\n",
      "date                      10/04/2020 08:06\n",
      "Name: 27, dtype: object\n"
     ]
    },
    {
     "name": "stdout",
     "output_type": "stream",
     "text": [
      "2020-11-08T13:17:07.121 DEBUG __main__.<module> index                                   27\n",
      "deviceid                            73001A\n",
      "evt_timestamp          2020-10-04 08:06:00\n",
      "devicetype                       StateTest\n",
      "logicalinterface_id                   None\n",
      "eventtype                             None\n",
      "format                                None\n",
      "updated_utc            2020-10-04 08:06:00\n",
      "running_status                     RUNNING\n",
      "date                      10/04/2020 08:06\n",
      "Name: 27, dtype: object\n"
     ]
    },
    {
     "name": "stderr",
     "output_type": "stream",
     "text": [
      "2020-11-08 13:17:07,124 - __main__ - DEBUG - original rows\n"
     ]
    },
    {
     "name": "stdout",
     "output_type": "stream",
     "text": [
      "2020-11-08T13:17:07.124 DEBUG __main__.<module> original rows\n"
     ]
    },
    {
     "name": "stderr",
     "output_type": "stream",
     "text": [
      "2020-11-08 13:17:07,125 - __main__ - DEBUG - index                                   28\n",
      "deviceid                            73001A\n",
      "evt_timestamp          2020-10-04 08:11:00\n",
      "devicetype                       StateTest\n",
      "logicalinterface_id                   None\n",
      "eventtype                             None\n",
      "format                                None\n",
      "updated_utc            2020-10-04 08:11:00\n",
      "running_status                     RUNNING\n",
      "date                      10/04/2020 08:11\n",
      "Name: 28, dtype: object\n"
     ]
    },
    {
     "name": "stdout",
     "output_type": "stream",
     "text": [
      "2020-11-08T13:17:07.125 DEBUG __main__.<module> index                                   28\n",
      "deviceid                            73001A\n",
      "evt_timestamp          2020-10-04 08:11:00\n",
      "devicetype                       StateTest\n",
      "logicalinterface_id                   None\n",
      "eventtype                             None\n",
      "format                                None\n",
      "updated_utc            2020-10-04 08:11:00\n",
      "running_status                     RUNNING\n",
      "date                      10/04/2020 08:11\n",
      "Name: 28, dtype: object\n"
     ]
    },
    {
     "ename": "KeyError",
     "evalue": "None",
     "output_type": "error",
     "traceback": [
      "\u001b[0;31m---------------------------------------------------------------------------\u001b[0m",
      "\u001b[0;31mKeyError\u001b[0m                                  Traceback (most recent call last)",
      "\u001b[0;32m~/ve/iot-python3/lib/python3.7/site-packages/pandas/core/indexes/base.py\u001b[0m in \u001b[0;36mget_loc\u001b[0;34m(self, key, method, tolerance)\u001b[0m\n\u001b[1;32m   2894\u001b[0m             \u001b[0;32mtry\u001b[0m\u001b[0;34m:\u001b[0m\u001b[0;34m\u001b[0m\u001b[0;34m\u001b[0m\u001b[0m\n\u001b[0;32m-> 2895\u001b[0;31m                 \u001b[0;32mreturn\u001b[0m \u001b[0mself\u001b[0m\u001b[0;34m.\u001b[0m\u001b[0m_engine\u001b[0m\u001b[0;34m.\u001b[0m\u001b[0mget_loc\u001b[0m\u001b[0;34m(\u001b[0m\u001b[0mcasted_key\u001b[0m\u001b[0;34m)\u001b[0m\u001b[0;34m\u001b[0m\u001b[0;34m\u001b[0m\u001b[0m\n\u001b[0m\u001b[1;32m   2896\u001b[0m             \u001b[0;32mexcept\u001b[0m \u001b[0mKeyError\u001b[0m \u001b[0;32mas\u001b[0m \u001b[0merr\u001b[0m\u001b[0;34m:\u001b[0m\u001b[0;34m\u001b[0m\u001b[0;34m\u001b[0m\u001b[0m\n",
      "\u001b[0;32mpandas/_libs/index.pyx\u001b[0m in \u001b[0;36mpandas._libs.index.IndexEngine.get_loc\u001b[0;34m()\u001b[0m\n",
      "\u001b[0;32mpandas/_libs/index.pyx\u001b[0m in \u001b[0;36mpandas._libs.index.IndexEngine.get_loc\u001b[0;34m()\u001b[0m\n",
      "\u001b[0;32mpandas/_libs/hashtable_class_helper.pxi\u001b[0m in \u001b[0;36mpandas._libs.hashtable.PyObjectHashTable.get_item\u001b[0;34m()\u001b[0m\n",
      "\u001b[0;32mpandas/_libs/hashtable_class_helper.pxi\u001b[0m in \u001b[0;36mpandas._libs.hashtable.PyObjectHashTable.get_item\u001b[0;34m()\u001b[0m\n",
      "\u001b[0;31mKeyError\u001b[0m: None",
      "\nThe above exception was the direct cause of the following exception:\n",
      "\u001b[0;31mKeyError\u001b[0m                                  Traceback (most recent call last)",
      "\u001b[0;32m<ipython-input-47-850095ee1cf1>\u001b[0m in \u001b[0;36m<module>\u001b[0;34m\u001b[0m\n\u001b[1;32m     37\u001b[0m \u001b[0;31m#time_index_name = df.index.names[1]\u001b[0m\u001b[0;34m\u001b[0m\u001b[0;34m\u001b[0m\u001b[0;34m\u001b[0m\u001b[0m\n\u001b[1;32m     38\u001b[0m \u001b[0mdf\u001b[0m\u001b[0;34m.\u001b[0m\u001b[0mreset_index\u001b[0m\u001b[0;34m(\u001b[0m\u001b[0minplace\u001b[0m\u001b[0;34m=\u001b[0m\u001b[0;32mTrue\u001b[0m\u001b[0;34m)\u001b[0m\u001b[0;34m\u001b[0m\u001b[0;34m\u001b[0m\u001b[0m\n\u001b[0;32m---> 39\u001b[0;31m \u001b[0masset_list\u001b[0m \u001b[0;34m=\u001b[0m \u001b[0mdf\u001b[0m\u001b[0;34m[\u001b[0m\u001b[0mentity_index_name\u001b[0m\u001b[0;34m]\u001b[0m\u001b[0;34m.\u001b[0m\u001b[0munique\u001b[0m\u001b[0;34m(\u001b[0m\u001b[0;34m)\u001b[0m\u001b[0;34m.\u001b[0m\u001b[0mtolist\u001b[0m\u001b[0;34m(\u001b[0m\u001b[0;34m)\u001b[0m\u001b[0;34m\u001b[0m\u001b[0;34m\u001b[0m\u001b[0m\n\u001b[0m\u001b[1;32m     40\u001b[0m \u001b[0mlogging\u001b[0m\u001b[0;34m.\u001b[0m\u001b[0mdebug\u001b[0m\u001b[0;34m(\u001b[0m\u001b[0;34m\"List of unique equipment\"\u001b[0m\u001b[0;34m)\u001b[0m\u001b[0;34m\u001b[0m\u001b[0;34m\u001b[0m\u001b[0m\n\u001b[1;32m     41\u001b[0m \u001b[0mlogging\u001b[0m\u001b[0;34m.\u001b[0m\u001b[0mdebug\u001b[0m\u001b[0;34m(\u001b[0m\u001b[0masset_list\u001b[0m\u001b[0;34m)\u001b[0m\u001b[0;34m\u001b[0m\u001b[0;34m\u001b[0m\u001b[0m\n",
      "\u001b[0;32m~/ve/iot-python3/lib/python3.7/site-packages/pandas/core/frame.py\u001b[0m in \u001b[0;36m__getitem__\u001b[0;34m(self, key)\u001b[0m\n\u001b[1;32m   2900\u001b[0m             \u001b[0;32mif\u001b[0m \u001b[0mself\u001b[0m\u001b[0;34m.\u001b[0m\u001b[0mcolumns\u001b[0m\u001b[0;34m.\u001b[0m\u001b[0mnlevels\u001b[0m \u001b[0;34m>\u001b[0m \u001b[0;36m1\u001b[0m\u001b[0;34m:\u001b[0m\u001b[0;34m\u001b[0m\u001b[0;34m\u001b[0m\u001b[0m\n\u001b[1;32m   2901\u001b[0m                 \u001b[0;32mreturn\u001b[0m \u001b[0mself\u001b[0m\u001b[0;34m.\u001b[0m\u001b[0m_getitem_multilevel\u001b[0m\u001b[0;34m(\u001b[0m\u001b[0mkey\u001b[0m\u001b[0;34m)\u001b[0m\u001b[0;34m\u001b[0m\u001b[0;34m\u001b[0m\u001b[0m\n\u001b[0;32m-> 2902\u001b[0;31m             \u001b[0mindexer\u001b[0m \u001b[0;34m=\u001b[0m \u001b[0mself\u001b[0m\u001b[0;34m.\u001b[0m\u001b[0mcolumns\u001b[0m\u001b[0;34m.\u001b[0m\u001b[0mget_loc\u001b[0m\u001b[0;34m(\u001b[0m\u001b[0mkey\u001b[0m\u001b[0;34m)\u001b[0m\u001b[0;34m\u001b[0m\u001b[0;34m\u001b[0m\u001b[0m\n\u001b[0m\u001b[1;32m   2903\u001b[0m             \u001b[0;32mif\u001b[0m \u001b[0mis_integer\u001b[0m\u001b[0;34m(\u001b[0m\u001b[0mindexer\u001b[0m\u001b[0;34m)\u001b[0m\u001b[0;34m:\u001b[0m\u001b[0;34m\u001b[0m\u001b[0;34m\u001b[0m\u001b[0m\n\u001b[1;32m   2904\u001b[0m                 \u001b[0mindexer\u001b[0m \u001b[0;34m=\u001b[0m \u001b[0;34m[\u001b[0m\u001b[0mindexer\u001b[0m\u001b[0;34m]\u001b[0m\u001b[0;34m\u001b[0m\u001b[0;34m\u001b[0m\u001b[0m\n",
      "\u001b[0;32m~/ve/iot-python3/lib/python3.7/site-packages/pandas/core/indexes/base.py\u001b[0m in \u001b[0;36mget_loc\u001b[0;34m(self, key, method, tolerance)\u001b[0m\n\u001b[1;32m   2895\u001b[0m                 \u001b[0;32mreturn\u001b[0m \u001b[0mself\u001b[0m\u001b[0;34m.\u001b[0m\u001b[0m_engine\u001b[0m\u001b[0;34m.\u001b[0m\u001b[0mget_loc\u001b[0m\u001b[0;34m(\u001b[0m\u001b[0mcasted_key\u001b[0m\u001b[0;34m)\u001b[0m\u001b[0;34m\u001b[0m\u001b[0;34m\u001b[0m\u001b[0m\n\u001b[1;32m   2896\u001b[0m             \u001b[0;32mexcept\u001b[0m \u001b[0mKeyError\u001b[0m \u001b[0;32mas\u001b[0m \u001b[0merr\u001b[0m\u001b[0;34m:\u001b[0m\u001b[0;34m\u001b[0m\u001b[0;34m\u001b[0m\u001b[0m\n\u001b[0;32m-> 2897\u001b[0;31m                 \u001b[0;32mraise\u001b[0m \u001b[0mKeyError\u001b[0m\u001b[0;34m(\u001b[0m\u001b[0mkey\u001b[0m\u001b[0;34m)\u001b[0m \u001b[0;32mfrom\u001b[0m \u001b[0merr\u001b[0m\u001b[0;34m\u001b[0m\u001b[0;34m\u001b[0m\u001b[0m\n\u001b[0m\u001b[1;32m   2898\u001b[0m \u001b[0;34m\u001b[0m\u001b[0m\n\u001b[1;32m   2899\u001b[0m         \u001b[0;32mif\u001b[0m \u001b[0mtolerance\u001b[0m \u001b[0;32mis\u001b[0m \u001b[0;32mnot\u001b[0m \u001b[0;32mNone\u001b[0m\u001b[0;34m:\u001b[0m\u001b[0;34m\u001b[0m\u001b[0;34m\u001b[0m\u001b[0m\n",
      "\u001b[0;31mKeyError\u001b[0m: None"
     ]
    }
   ],
   "source": [
    "print(\"Debugging initial df format  \")\n",
    "# Initialize\n",
    "states = []\n",
    "state_column = 'running_status'\n",
    "state_metric_name = 'RUNNING'\n",
    "entity_name = 'StateTest'\n",
    "\n",
    "df = db.read_table(table_name=entity_name, schema=db_schema)\n",
    "logging.debug(\"Original Simulation Data to test downtime calculations\")\n",
    "logging.debug(\"start df ----- %s \" % df)\n",
    "logging.debug(\"start df ----- %s \" % df.columns)\n",
    "\n",
    "logging.debug(\"start state_column  ----- %s \" %state_column)\n",
    "logging.debug(\"start print state_metric_name %s \" %state_metric_name)\n",
    "\n",
    "#df.c1[df.deviceid == 'deviceid'].index.tolist()\n",
    "logging.debug(\"Reset index for local testing -----\")\n",
    "df.reset_index(inplace=True)\n",
    "\n",
    "# List unique values in the df['name'] column\n",
    "logging.debug('List of Running Status')\n",
    "states = df[state_column].unique()\n",
    "logging.debug(states)\n",
    "\n",
    "logging.debug(\"Original Simulation Data looking at rows\")\n",
    "for index, row in df.iterrows():\n",
    "    logger.debug(\"original rows\")\n",
    "    logger.debug(row)\n",
    "\n",
    "# Initialize status you need to find running times for\n",
    "pd.set_option('display.max_columns', None)\n",
    "for state in states:\n",
    "    df[state_metric_name] = 0\n",
    "    df[state] = 0\n",
    "                    \n",
    "entity_index_name = df.index.names[0]\n",
    "#time_index_name = df.index.names[1]\n",
    "df.reset_index(inplace=True)\n",
    "asset_list = df[entity_index_name].unique().tolist()\n",
    "logging.debug(\"List of unique equipment\")\n",
    "logging.debug(asset_list)"
   ]
  },
  {
   "cell_type": "code",
   "execution_count": 125,
   "metadata": {},
   "outputs": [
    {
     "name": "stdout",
     "output_type": "stream",
     "text": [
      "df.dtypes\n",
      "deviceid                           object\n",
      "evt_timestamp              datetime64[ns]\n",
      "devicetype                         object\n",
      "logicalinterface_id                object\n",
      "eventtype                          object\n",
      "format                             object\n",
      "updated_utc                datetime64[ns]\n",
      "drvn_p1                           float64\n",
      "maintenance_status_x                int64\n",
      "mainteancne_status_y                int64\n",
      "predict_drvn_t1                   float64\n",
      "predict_drvn_p1                   float64\n",
      "drvn_t2                           float64\n",
      "drvn_p2                           float64\n",
      "predict_drvn_t2                   float64\n",
      "predict_drvn_p2                   float64\n",
      "run_status                          int64\n",
      "scheduled_maintenance               int64\n",
      "unscheduled_maintenance             int64\n",
      "compressor_in_x                   float64\n",
      "compressor_in_y                   float64\n",
      "asset_id                           object\n",
      "compressor_out_x                  float64\n",
      "drvr_rpm                          float64\n",
      "compressor_out_y                  float64\n",
      "drvn_flow                         float64\n",
      "run_status_x                        int64\n",
      "drvn_t1                           float64\n",
      "run_status_y                        int64\n",
      "anomaly_score                     float64\n",
      "dtype: object\n",
      "plot original time series data\n"
     ]
    },
    {
     "data": {
      "image/png": "[encoded data removed]",
      "text/plain": [
       "<Figure size 864x864 with 1 Axes>"
      ]
     },
     "metadata": {
      "needs_background": "light"
     },
     "output_type": "display_data"
    }
   ],
   "source": [
    "# Make sure you have good data\n",
    "print (\"df.dtypes\")\n",
    "print (df.dtypes)\n",
    "\n",
    "# Convert evt_timestamp so that you can use it to plot x axix by time.\n",
    "df['evt_timestamp'] = pd.to_datetime(df['evt_timestamp'])\n",
    "print (\"plot original time series data\")\n",
    "\n",
    "# Create figure and plot raw data \n",
    "import matplotlib.pyplot as plt\n",
    "fig, ax = plt.subplots(figsize=(12, 12))\n",
    "\n",
    "# Add x-axis and y-axis use ax.plot(data time for x axis, pressure for y axis) \n",
    "# For line use ax.plot and for bar chart use: ax.bar\n",
    "ax.plot(df[(df.deviceid == '73001') & (df['evt_timestamp'] < pd.Timestamp('2020-04-10 07:41:14.687196'))].sort_values(by='evt_timestamp',ascending=True)['evt_timestamp'],\n",
    "        df[(df.deviceid == '73001') & (df['evt_timestamp'] < pd.Timestamp('2020-04-10 07:41:14.687196'))].sort_values(by='evt_timestamp',ascending=True)['drvn_p1'],\n",
    "        color='purple')\n",
    "\n",
    "# Works Bar chart. Add x-axis and y-axis use ax.plot for line and ax.bar for bar chart\n",
    "# ax.plot(df.loc[df['deviceid'] == '73001'].sort_values(by='evt_timestamp',ascending=True)['evt_timestamp'],\n",
    "#        df.loc[df['deviceid'] == '73001'].sort_values(by='evt_timestamp',ascending=True)['drvn_p1'],\n",
    "#        color='purple')\n",
    "\n",
    "# Set title and labels for axes\n",
    "ax.set(xlabel=\"Date\",\n",
    "       ylabel=\"drvn_p1 (psi)\",\n",
    "       title=\"Pressure\\n Test\")\n",
    "\n",
    "plt.show()"
   ]
  },
  {
   "cell_type": "code",
   "execution_count": 129,
   "metadata": {
    "scrolled": true
   },
   "outputs": [
    {
     "name": "stdout",
     "output_type": "stream",
     "text": [
      "Index(['deviceid', 'evt_timestamp', 'devicetype', 'logicalinterface_id',\n",
      "       'eventtype', 'format', 'updated_utc', 'drvn_p1', 'maintenance_status_x',\n",
      "       'mainteancne_status_y', 'predict_drvn_t1', 'predict_drvn_p1', 'drvn_t2',\n",
      "       'drvn_p2', 'predict_drvn_t2', 'predict_drvn_p2', 'run_status',\n",
      "       'scheduled_maintenance', 'unscheduled_maintenance', 'compressor_in_x',\n",
      "       'compressor_in_y', 'asset_id', 'compressor_out_x', 'drvr_rpm',\n",
      "       'compressor_out_y', 'drvn_flow', 'run_status_x', 'drvn_t1',\n",
      "       'run_status_y', 'anomaly_score'],\n",
      "      dtype='object')\n",
      "dataframe columns\n",
      "s_df.shape 1\n",
      "(8539, 2)\n",
      "         drvn_p1    drvr_rpm\n",
      "0       0.322422    1.016982\n",
      "21     48.697716   -1.244989\n",
      "34     51.755351    0.222056\n",
      "39     49.895224   -0.261683\n",
      "68     49.508695   -0.337837\n",
      "82     51.085613    0.554435\n",
      "97     51.334664   -0.570295\n",
      "102    50.537194    1.278511\n",
      "110     0.000000    0.000000\n",
      "115     2.608547    1.043419\n",
      "120     4.538127    3.176689\n",
      "125     7.039869    7.743856\n",
      "130     7.648142    9.177770\n",
      "135     9.993092   15.988948\n",
      "140    12.167318   24.334636\n",
      "145    13.178669   28.993073\n",
      "150    14.588760   36.471900\n",
      "155    15.028248   39.073444\n",
      "160    15.858566   44.403986\n",
      "165    16.248509   47.120677\n",
      "170    16.621080   49.863239\n",
      "175    16.975879   52.625224\n",
      "180    17.312527   55.400087\n",
      "185    17.929952   60.961838\n",
      "190    18.932505   71.943521\n",
      "195    18.932505   71.943521\n",
      "200    19.611611   82.368764\n",
      "205    19.990076   97.951372\n",
      "210    19.958793   99.793965\n",
      "216    52.084366  109.051641\n",
      "...          ...         ...\n",
      "43165  53.187455   49.863239\n",
      "43170  55.400087   55.400087\n",
      "43175  56.418128   58.181195\n",
      "43180  57.375848   60.961838\n",
      "43185  58.272222   63.735243\n",
      "43190  58.272222   63.735243\n",
      "43195  59.877164   69.232971\n",
      "43200  59.877164   69.232971\n",
      "43205  61.226094   74.619302\n",
      "43210  61.226094   74.619302\n",
      "43215  62.313244   79.838843\n",
      "43220  62.757154   82.368764\n",
      "43225  62.757154   82.368764\n",
      "43230  63.443272   87.234499\n",
      "43235  63.443272   87.234499\n",
      "43240  56.418128   58.181195\n",
      "43245  57.375848   60.961838\n",
      "43250  58.272222   63.735243\n",
      "43255  59.877164   69.232971\n",
      "43260  60.584017   71.943521\n",
      "43265  61.226094   74.619302\n",
      "43270  63.858130   91.796062\n",
      "43275  63.963237   93.946004\n",
      "43280  63.963237   93.946004\n",
      "43285  63.968243   97.951372\n",
      "43290  63.968243   97.951372\n",
      "43295  63.699745  101.521468\n",
      "43300  63.463244  103.127772\n",
      "43305  63.158889  104.606911\n",
      "43310  62.787005  105.953071\n",
      "\n",
      "[8539 rows x 2 columns]\n"
     ]
    },
    {
     "name": "stderr",
     "output_type": "stream",
     "text": [
      "/Users/carlos.ferreira1ibm.com/ve/iot-python3/lib/python3.7/site-packages/sklearn/ensemble/iforest.py:417: DeprecationWarning: threshold_ attribute is deprecated in 0.20 and will be removed in 0.22.\n",
      "  \" be removed in 0.22.\", DeprecationWarning)\n"
     ]
    },
    {
     "name": "stdout",
     "output_type": "stream",
     "text": [
      "      drvn_p1  drvr_rpm  anomaly_score\n",
      "0    0.322422  1.016982             -1\n",
      "21  48.697716 -1.244989             -1\n",
      "34  51.755351  0.222056             -1\n",
      "39  49.895224 -0.261683             -1\n",
      "68  49.508695 -0.337837             -1\n",
      "Counter({1: 7740, -1: 799})\n",
      "s_df.shape 2\n",
      "(8539, 3)\n",
      "         drvn_p1    drvr_rpm  anomaly_score\n",
      "0       0.322422    1.016982             -1\n",
      "21     48.697716   -1.244989             -1\n",
      "34     51.755351    0.222056             -1\n",
      "39     49.895224   -0.261683             -1\n",
      "68     49.508695   -0.337837             -1\n",
      "82     51.085613    0.554435             -1\n",
      "97     51.334664   -0.570295             -1\n",
      "102    50.537194    1.278511             -1\n",
      "110     0.000000    0.000000             -1\n",
      "115     2.608547    1.043419              1\n",
      "120     4.538127    3.176689              1\n",
      "125     7.039869    7.743856              1\n",
      "130     7.648142    9.177770              1\n",
      "135     9.993092   15.988948              1\n",
      "140    12.167318   24.334636              1\n",
      "145    13.178669   28.993073              1\n",
      "150    14.588760   36.471900              1\n",
      "155    15.028248   39.073444              1\n",
      "160    15.858566   44.403986              1\n",
      "165    16.248509   47.120677              1\n",
      "170    16.621080   49.863239              1\n",
      "175    16.975879   52.625224              1\n",
      "180    17.312527   55.400087              1\n",
      "185    17.929952   60.961838              1\n",
      "190    18.932505   71.943521              1\n",
      "195    18.932505   71.943521              1\n",
      "200    19.611611   82.368764             -1\n",
      "205    19.990076   97.951372             -1\n",
      "210    19.958793   99.793965             -1\n",
      "216    52.084366  109.051641              1\n",
      "...          ...         ...            ...\n",
      "43165  53.187455   49.863239              1\n",
      "43170  55.400087   55.400087              1\n",
      "43175  56.418128   58.181195              1\n",
      "43180  57.375848   60.961838              1\n",
      "43185  58.272222   63.735243              1\n",
      "43190  58.272222   63.735243              1\n",
      "43195  59.877164   69.232971              1\n",
      "43200  59.877164   69.232971              1\n",
      "43205  61.226094   74.619302              1\n",
      "43210  61.226094   74.619302              1\n",
      "43215  62.313244   79.838843              1\n",
      "43220  62.757154   82.368764              1\n",
      "43225  62.757154   82.368764              1\n",
      "43230  63.443272   87.234499              1\n",
      "43235  63.443272   87.234499              1\n",
      "43240  56.418128   58.181195              1\n",
      "43245  57.375848   60.961838              1\n",
      "43250  58.272222   63.735243              1\n",
      "43255  59.877164   69.232971              1\n",
      "43260  60.584017   71.943521              1\n",
      "43265  61.226094   74.619302              1\n",
      "43270  63.858130   91.796062              1\n",
      "43275  63.963237   93.946004              1\n",
      "43280  63.963237   93.946004              1\n",
      "43285  63.968243   97.951372              1\n",
      "43290  63.968243   97.951372              1\n",
      "43295  63.699745  101.521468              1\n",
      "43300  63.463244  103.127772              1\n",
      "43305  63.158889  104.606911              1\n",
      "43310  62.787005  105.953071              1\n",
      "\n",
      "[8539 rows x 3 columns]\n"
     ]
    }
   ],
   "source": [
    "\n",
    "# build custom model locally (user notebook will go here) Score by individual asset \n",
    "# columns = input_columns that come as input arguements to custom function in Catalog\n",
    "# columns = input_columns\n",
    "print ( df.columns )\n",
    "print (\"dataframe columns\")\n",
    "columns = ['drvn_p1', 'drvr_rpm']\n",
    "s_df = df.loc[df['deviceid'] == \"73001\", :][columns]\n",
    "rows = [list(r) for i,r in s_df.iterrows()]\n",
    "\n",
    "print ('s_df.shape 1')\n",
    "print (s_df.shape)\n",
    "print (s_df)\n",
    "\n",
    "# create a model (using IsolationForest here with default settings)\n",
    "clf = IsolationForest()\n",
    "\n",
    "# place classifier in a sklearn \"pipeline\"\n",
    "pipeline = Pipeline( steps = [ ( \"classifier\", clf ) ] )\n",
    "\n",
    "# fit data to model pipeline\n",
    "pipeline.fit(rows)\n",
    "\n",
    "#s_df = df[columns]\n",
    "#rows = [list(r) for i,r in s_df.iterrows()]\n",
    "\n",
    "# test model\n",
    "results = pipeline.predict(rows)\n",
    "s_df.loc[: ,'anomaly_score'] = results\n",
    "print(s_df.head())\n",
    "\n",
    "from collections import Counter\n",
    "print(Counter(results))\n",
    "\n",
    "#Select the anomaly_score column and asset the resulting prediction score to it.\n",
    "\n",
    "print ('s_df.shape 2')\n",
    "print (s_df.shape)\n",
    "print(s_df)"
   ]
  },
  {
   "cell_type": "code",
   "execution_count": 130,
   "metadata": {
    "scrolled": true
   },
   "outputs": [
    {
     "name": "stdout",
     "output_type": "stream",
     "text": [
      "\n",
      " -- Right after adding deviceid column and evt_timestamp  -- \n",
      "\n",
      "         drvn_p1    drvr_rpm  anomaly_score deviceid  \\\n",
      "0       0.322422    1.016982             -1    73001   \n",
      "21     48.697716   -1.244989             -1    73001   \n",
      "34     51.755351    0.222056             -1    73001   \n",
      "39     49.895224   -0.261683             -1    73001   \n",
      "68     49.508695   -0.337837             -1    73001   \n",
      "82     51.085613    0.554435             -1    73001   \n",
      "97     51.334664   -0.570295             -1    73001   \n",
      "102    50.537194    1.278511             -1    73001   \n",
      "110     0.000000    0.000000             -1    73001   \n",
      "115     2.608547    1.043419              1    73001   \n",
      "120     4.538127    3.176689              1    73001   \n",
      "125     7.039869    7.743856              1    73001   \n",
      "130     7.648142    9.177770              1    73001   \n",
      "135     9.993092   15.988948              1    73001   \n",
      "140    12.167318   24.334636              1    73001   \n",
      "145    13.178669   28.993073              1    73001   \n",
      "150    14.588760   36.471900              1    73001   \n",
      "155    15.028248   39.073444              1    73001   \n",
      "160    15.858566   44.403986              1    73001   \n",
      "165    16.248509   47.120677              1    73001   \n",
      "170    16.621080   49.863239              1    73001   \n",
      "175    16.975879   52.625224              1    73001   \n",
      "180    17.312527   55.400087              1    73001   \n",
      "185    17.929952   60.961838              1    73001   \n",
      "190    18.932505   71.943521              1    73001   \n",
      "195    18.932505   71.943521              1    73001   \n",
      "200    19.611611   82.368764             -1    73001   \n",
      "205    19.990076   97.951372             -1    73001   \n",
      "210    19.958793   99.793965             -1    73001   \n",
      "216    52.084366  109.051641              1    73001   \n",
      "...          ...         ...            ...      ...   \n",
      "43165  53.187455   49.863239              1    73001   \n",
      "43170  55.400087   55.400087              1    73001   \n",
      "43175  56.418128   58.181195              1    73001   \n",
      "43180  57.375848   60.961838              1    73001   \n",
      "43185  58.272222   63.735243              1    73001   \n",
      "43190  58.272222   63.735243              1    73001   \n",
      "43195  59.877164   69.232971              1    73001   \n",
      "43200  59.877164   69.232971              1    73001   \n",
      "43205  61.226094   74.619302              1    73001   \n",
      "43210  61.226094   74.619302              1    73001   \n",
      "43215  62.313244   79.838843              1    73001   \n",
      "43220  62.757154   82.368764              1    73001   \n",
      "43225  62.757154   82.368764              1    73001   \n",
      "43230  63.443272   87.234499              1    73001   \n",
      "43235  63.443272   87.234499              1    73001   \n",
      "43240  56.418128   58.181195              1    73001   \n",
      "43245  57.375848   60.961838              1    73001   \n",
      "43250  58.272222   63.735243              1    73001   \n",
      "43255  59.877164   69.232971              1    73001   \n",
      "43260  60.584017   71.943521              1    73001   \n",
      "43265  61.226094   74.619302              1    73001   \n",
      "43270  63.858130   91.796062              1    73001   \n",
      "43275  63.963237   93.946004              1    73001   \n",
      "43280  63.963237   93.946004              1    73001   \n",
      "43285  63.968243   97.951372              1    73001   \n",
      "43290  63.968243   97.951372              1    73001   \n",
      "43295  63.699745  101.521468              1    73001   \n",
      "43300  63.463244  103.127772              1    73001   \n",
      "43305  63.158889  104.606911              1    73001   \n",
      "43310  62.787005  105.953071              1    73001   \n",
      "\n",
      "                   evt_timestamp  \n",
      "0     2020-03-29 15:55:42.529000  \n",
      "21    2020-03-28 19:30:56.878000  \n",
      "34    2020-03-28 20:35:56.878000  \n",
      "39    2020-03-28 21:00:56.878000  \n",
      "68    2020-03-28 23:25:56.878000  \n",
      "82    2020-03-29 00:35:56.878000  \n",
      "97    2020-03-29 01:50:56.878000  \n",
      "102   2020-03-29 02:15:56.878000  \n",
      "110   2020-04-02 06:01:47.424623  \n",
      "115   2020-04-02 06:23:00.095763  \n",
      "120   2020-04-02 06:39:38.824514  \n",
      "125   2020-04-02 06:56:49.563623  \n",
      "130   2020-04-02 07:03:00.765048  \n",
      "135   2020-04-02 07:23:21.880121  \n",
      "140   2020-04-02 07:43:31.944420  \n",
      "145   2020-04-02 07:53:04.972412  \n",
      "150   2020-04-02 08:07:08.282233  \n",
      "155   2020-04-02 08:13:52.643591  \n",
      "160   2020-04-02 08:23:19.248114  \n",
      "165   2020-04-02 08:26:53.677825  \n",
      "170   2020-04-02 08:33:45.936970  \n",
      "175   2020-04-02 08:37:15.190961  \n",
      "180   2020-04-02 08:42:34.839626  \n",
      "185   2020-04-02 08:52:34.620990  \n",
      "190   2020-04-02 09:14:17.265732  \n",
      "195   2020-04-02 09:16:43.527751  \n",
      "200   2020-04-02 09:36:20.919786  \n",
      "205   2020-04-02 10:08:03.104398  \n",
      "210   2020-04-02 10:12:40.172525  \n",
      "216   2020-04-09 04:36:16.717783  \n",
      "...                          ...  \n",
      "43165 2020-04-28 20:51:09.805465  \n",
      "43170 2020-04-28 21:01:10.144944  \n",
      "43175 2020-04-28 21:06:08.486209  \n",
      "43180 2020-04-28 21:11:15.439513  \n",
      "43185 2020-04-28 21:16:10.732746  \n",
      "43190 2020-04-28 21:21:05.907197  \n",
      "43195 2020-04-28 21:26:13.581858  \n",
      "43200 2020-04-28 21:31:06.797624  \n",
      "43205 2020-04-28 21:36:13.531985  \n",
      "43210 2020-04-28 21:41:06.805540  \n",
      "43215 2020-04-28 21:46:13.259139  \n",
      "43220 2020-04-28 21:52:14.255864  \n",
      "43225 2020-04-28 21:56:05.300152  \n",
      "43230 2020-04-28 22:01:09.904505  \n",
      "43235 2020-04-28 22:06:05.511752  \n",
      "43240 2020-05-07 01:26:13.524938  \n",
      "43245 2020-05-07 01:31:12.874956  \n",
      "43250 2020-05-07 01:36:10.282250  \n",
      "43255 2020-05-07 01:46:12.196171  \n",
      "43260 2020-05-07 01:51:11.216229  \n",
      "43265 2020-05-07 01:56:10.595476  \n",
      "43270 2020-04-28 22:11:12.611032  \n",
      "43275 2020-04-28 22:16:09.717634  \n",
      "43280 2020-04-28 22:21:04.696844  \n",
      "43285 2020-04-28 22:26:12.598685  \n",
      "43290 2020-04-28 22:31:06.709984  \n",
      "43295 2020-04-28 22:36:14.535508  \n",
      "43300 2020-04-28 22:41:09.986356  \n",
      "43305 2020-04-28 22:46:12.336473  \n",
      "43310 2020-04-28 22:51:08.689577  \n",
      "\n",
      "[8539 rows x 5 columns]\n",
      "df_combine_first\n",
      "       anomaly_score asset_id  compressor_in_x  compressor_in_y  \\\n",
      "0               -1.0       dt         0.806583        -0.153476   \n",
      "1                0.0       is        -0.266406         0.431678   \n",
      "2                0.0       as         1.325922         0.506799   \n",
      "3                0.0       ae         0.047133        -0.029483   \n",
      "4                0.0       ei        -0.194613         1.403546   \n",
      "5                0.0       as        -0.747715        -0.038291   \n",
      "6                0.0       as         0.284620         1.316592   \n",
      "7                0.0       es         0.604544        -0.331432   \n",
      "8                0.0       aa        -2.018499        -0.060332   \n",
      "9                0.0       id         0.875694        -0.366131   \n",
      "10               0.0       as        -0.474580        -1.666758   \n",
      "11               0.0       si        -0.710188         1.186937   \n",
      "12               0.0       tt        -2.242000        -0.909914   \n",
      "13               0.0       s_         0.058592        -0.826813   \n",
      "14               0.0       ae        -0.103821         0.128892   \n",
      "15               0.0       sa         0.634219        -1.489535   \n",
      "16               0.0       _s         0.459777         0.449405   \n",
      "17               0.0       as        -0.403833        -1.765007   \n",
      "18               0.0       dd        -0.708338         0.400362   \n",
      "19               0.0       d_        -0.885975         1.650500   \n",
      "20               0.0       ai         0.673376        -0.224613   \n",
      "21              -1.0       se         0.073256        -0.889904   \n",
      "22               0.0       ds         0.102941         0.351839   \n",
      "23               0.0       _s        -0.553121        -0.794573   \n",
      "24               0.0       at         0.454879         0.415316   \n",
      "25               0.0       t_         1.583325         1.815005   \n",
      "26               0.0       ad         1.982014        -0.415359   \n",
      "27               0.0       se         0.474349         0.497566   \n",
      "28               0.0       ei         1.132053         0.858665   \n",
      "29               0.0       ai        -0.071906         1.351524   \n",
      "...              ...      ...              ...              ...   \n",
      "43285            1.0    73001        10.499959         0.039980   \n",
      "43286            0.0    73002        10.541605         0.061844   \n",
      "43287            0.0    73003        10.541605         0.063718   \n",
      "43288            0.0    73004        10.541605        28.125000   \n",
      "43289            0.0    73000        10.499959         0.038731   \n",
      "43290            1.0    73001        10.499959         0.039980   \n",
      "43291            0.0    73002        10.541605         0.061844   \n",
      "43292            0.0    73003        10.541605         0.063718   \n",
      "43293            0.0    73004        10.541605        28.125000   \n",
      "43294            0.0    73000        10.499609         0.038568   \n",
      "43295            1.0    73001        10.499609         0.039812   \n",
      "43296            0.0    73002        10.541080         0.061585   \n",
      "43297            0.0    73003        10.541080         0.063451   \n",
      "43298            0.0    73004        10.541080        28.125000   \n",
      "43299            0.0    73000        10.499301         0.038425   \n",
      "43300            1.0    73001        10.499301         0.039665   \n",
      "43301            0.0    73002        10.540618         0.061356   \n",
      "43302            0.0    73003        10.540618         0.063215   \n",
      "43303            0.0    73004        10.540618        28.125000   \n",
      "43304            0.0    73000        10.498905         0.038241   \n",
      "43305            1.0    73001        10.498905         0.039474   \n",
      "43306            0.0    73002        10.540024         0.061062   \n",
      "43307            0.0    73003        10.540024         0.062912   \n",
      "43308            0.0    73004        10.540024        28.125000   \n",
      "43309            0.0    73000        10.498421         0.038016   \n",
      "43310            1.0    73001        10.498421         0.039242   \n",
      "43311            0.0    73002        10.539298         0.060702   \n",
      "43312            0.0    73003        10.539298         0.062542   \n",
      "43313            0.0    73004        10.539298        28.125000   \n",
      "43314            0.0    73000        10.497849         0.037750   \n",
      "\n",
      "       compressor_out_x  compressor_out_y deviceid devicetype     drvn_flow  \\\n",
      "0              0.411088          1.119419    73001  Equipment      0.770955   \n",
      "1             -0.596250          0.721079    73003  Equipment      0.389489   \n",
      "2              0.074470         -0.437089    73008  Equipment     -1.141689   \n",
      "3              1.726746          1.243611    73007  Equipment     -0.668326   \n",
      "4             -0.399540         -0.723412    73004  Equipment      1.735435   \n",
      "5              0.726854          1.824100    73004  Equipment     -1.812713   \n",
      "6             -0.599558          1.501924    73005  Equipment      0.402273   \n",
      "7              0.970700         -0.232916    73009  Equipment      0.211726   \n",
      "8              0.283554          0.513609    73004  Equipment     -0.795582   \n",
      "9             -0.430701          0.487888    73006  Equipment      0.726728   \n",
      "10            -0.297635          0.580712    73007  Equipment     -1.649500   \n",
      "11             2.991913          0.327473    73006  Equipment      0.913562   \n",
      "12             0.041052         -2.028358    73003  Equipment      0.568890   \n",
      "13             0.759398         -0.912029    73004  Equipment      0.403487   \n",
      "14             1.541814          0.175875    73000  Equipment      0.929509   \n",
      "15             1.098671         -0.634384    73007  Equipment      1.205763   \n",
      "16            -1.742398         -0.539758    73006  Equipment      0.609880   \n",
      "17             0.104444         -0.805827    73003  Equipment      0.427305   \n",
      "18             0.490661         -0.482342    73004  Equipment     -0.510131   \n",
      "19             0.223211          1.761618    73004  Equipment      0.461319   \n",
      "20             2.023501         -1.177282    73008  Equipment      0.706776   \n",
      "21             0.422948          0.064081    73001  Equipment      0.962360   \n",
      "22            -0.007110          0.278666    73002  Equipment     -1.834336   \n",
      "23             0.046798          1.467856    73000  Equipment      0.609233   \n",
      "24             1.869932          0.117870    73008  Equipment      2.005269   \n",
      "25             0.967243         -0.495145    73002  Equipment     -2.147084   \n",
      "26             2.154176         -0.282038    73003  Equipment      1.641499   \n",
      "27            -0.277595          0.183648    73006  Equipment      0.399918   \n",
      "28             2.091437          1.359618    73002  Equipment      1.072259   \n",
      "29            -1.404607          0.577524    73008  Equipment      1.286606   \n",
      "...                 ...               ...      ...        ...           ...   \n",
      "43285         50.000000          0.052474    73001  Equipment   2523.988091   \n",
      "43286         50.000000          0.080585    73002  Equipment   2538.980648   \n",
      "43287         50.000000          0.082459    73003  Equipment   2541.979160   \n",
      "43288         50.000000         37.500000    73004  Equipment  17500.000000   \n",
      "43289         50.000000          0.051225    73000  Equipment   2521.989084   \n",
      "43290         50.000000          0.052474    73001  Equipment   2523.988091   \n",
      "43291         50.000000          0.080585    73002  Equipment   2538.980648   \n",
      "43292         50.000000          0.082459    73003  Equipment   2541.979160   \n",
      "43293         50.000000         37.500000    73004  Equipment  17500.000000   \n",
      "43294         50.000000          0.051010    73000  Equipment   2521.896787   \n",
      "43295         50.000000          0.052254    73001  Equipment   2523.887404   \n",
      "43296         50.000000          0.080247    73002  Equipment   2538.817032   \n",
      "43297         50.000000          0.082113    73003  Equipment   2541.802958   \n",
      "43298         50.000000         37.500000    73004  Equipment  17500.000000   \n",
      "43299         50.000000          0.050820    73000  Equipment   2521.815490   \n",
      "43300         50.000000          0.052060    73001  Equipment   2523.798717   \n",
      "43301         50.000000          0.079949    73002  Equipment   2538.672915   \n",
      "43302         50.000000          0.081808    73003  Equipment   2541.647754   \n",
      "43303         50.000000         37.500000    73004  Equipment  17500.000000   \n",
      "43304         50.000000          0.050576    73000  Equipment   2521.710868   \n",
      "43305         50.000000          0.051810    73001  Equipment   2523.684584   \n",
      "43306         50.000000          0.079565    73002  Equipment   2538.487448   \n",
      "43307         50.000000          0.081416    73003  Equipment   2541.448021   \n",
      "43308         50.000000         37.500000    73004  Equipment  17500.000000   \n",
      "43309         50.000000          0.050279    73000  Equipment   2521.583033   \n",
      "43310         50.000000          0.051505    73001  Equipment   2523.545127   \n",
      "43311         50.000000          0.079097    73002  Equipment   2538.260831   \n",
      "43312         50.000000          0.080936    73003  Equipment   2541.203972   \n",
      "43313         50.000000         37.500000    73004  Equipment  17500.000000   \n",
      "43314         50.000000          0.049927    73000  Equipment   2521.432121   \n",
      "\n",
      "            drvn_p1  ...  predict_drvn_p1  predict_drvn_p2  predict_drvn_t1  \\\n",
      "0          0.322422  ...         0.491316         1.495852         0.174115   \n",
      "1         -0.624873  ...         0.919630        -0.174510         1.082764   \n",
      "2         51.048978  ...        -0.888708         2.461109         0.432073   \n",
      "3         50.141485  ...         0.312469        -2.784600        -0.817425   \n",
      "4         48.571544  ...         0.079243         0.781761        -0.632997   \n",
      "5         49.418336  ...        -0.682084         0.287560         0.796396   \n",
      "6         52.081371  ...         0.272710        -0.830615        -1.016170   \n",
      "7         49.321813  ...         0.458323         0.138295        -1.668793   \n",
      "8         49.016529  ...         0.412245         0.604226         1.706604   \n",
      "9         48.967552  ...         0.168952        -0.555217         0.943849   \n",
      "10        50.511230  ...         0.374207        -0.992848        -0.039147   \n",
      "11        51.262785  ...         1.459318         1.400376        -0.220747   \n",
      "12        48.824348  ...        -0.024003         2.055720        -1.596251   \n",
      "13        50.176093  ...         1.150557        -0.053637        -1.864419   \n",
      "14        50.780520  ...         0.947221         0.554203        -0.418028   \n",
      "15        49.036617  ...        -0.294541         1.493286         0.418994   \n",
      "16        48.979408  ...         0.447087         1.779801         2.205939   \n",
      "17        50.173068  ...        -0.869121         0.865902         1.305172   \n",
      "18        49.206747  ...        -0.160266         0.173304         0.128849   \n",
      "19        48.948666  ...        -0.607389         0.137195        -0.127937   \n",
      "20        49.977820  ...         1.034334        -1.055804         1.909035   \n",
      "21        48.697716  ...         0.591909         0.793471         0.685282   \n",
      "22        51.018095  ...        -1.250275         1.596586         0.517818   \n",
      "23        49.365699  ...        -0.707505         0.819692         0.910334   \n",
      "24        48.873246  ...         0.773188         0.035217        -0.355774   \n",
      "25        49.493637  ...        -0.917386         0.588782        -1.495235   \n",
      "26        49.490459  ...         2.840078        -0.066626        -0.628108   \n",
      "27        48.982844  ...         0.791258        -0.002180         1.674105   \n",
      "28        50.152674  ...         0.030916        -1.114149        -0.886031   \n",
      "29        49.516184  ...         2.589292         0.831479         0.735641   \n",
      "...             ...  ...              ...              ...              ...   \n",
      "43285     63.968243  ...        65.967251        91.954350       103.948395   \n",
      "43286     98.950876  ...       101.949388       140.930036       125.937479   \n",
      "43287    101.949388  ...       104.947899       143.928547       134.933013   \n",
      "43288  45000.000000  ...     46500.000000     75000.000000        98.950876   \n",
      "43289     61.969236  ...        63.968243        89.955342        95.952365   \n",
      "43290     63.968243  ...        65.967251        91.954350       103.948395   \n",
      "43291     98.950876  ...       101.949388       140.930036       125.937479   \n",
      "43292    101.949388  ...       104.947899       143.928547       134.933013   \n",
      "43293  45000.000000  ...     46500.000000     75000.000000        98.950876   \n",
      "43294     61.709128  ...        63.699745        89.577766        95.549617   \n",
      "43295     63.699745  ...        65.690362        91.568383       103.512085   \n",
      "43296     98.535543  ...       101.521468       140.338500       125.408873   \n",
      "43297    101.521468  ...       104.507394       143.324426       134.366649   \n",
      "43298  45000.000000  ...     46500.000000     75000.000000        98.535543   \n",
      "43299     61.480018  ...        63.463244        89.245187        95.194867   \n",
      "43300     63.463244  ...        65.446471        91.228414       103.127772   \n",
      "43301     98.169706  ...       101.144546       139.817460       124.943262   \n",
      "43302    101.144546  ...       104.119385       142.792300       133.867781   \n",
      "43303  45000.000000  ...     46500.000000     75000.000000        98.169706   \n",
      "43304     61.185174  ...        63.158889        88.817188        94.738334   \n",
      "43305     63.158889  ...        65.132605        90.790904       102.633195   \n",
      "43306     97.698907  ...       100.659480       139.146928       124.344064   \n",
      "43307    100.659480  ...       103.620053       142.107501       133.225782   \n",
      "43308  45000.000000  ...     46500.000000     75000.000000        97.698907   \n",
      "43309     60.824911  ...        62.787005        88.294226        94.180508   \n",
      "43310     62.787005  ...        64.749099        90.256320       102.028884   \n",
      "43311     97.123649  ...       100.066790       138.327621       123.611917   \n",
      "43312    100.066790  ...       103.009931       141.270762       132.441339   \n",
      "43313  45000.000000  ...     46500.000000     75000.000000        97.123649   \n",
      "43314     60.399615  ...        62.347990        87.676860        93.521984   \n",
      "\n",
      "       predict_drvn_t2 run_status run_status_x run_status_y  \\\n",
      "0             0.687424       -1.0          0.0          1.0   \n",
      "1             0.892719        0.0          1.0          0.0   \n",
      "2             0.077628        0.0          0.0          0.0   \n",
      "3             1.410681        0.0          0.0          0.0   \n",
      "4             1.325065        0.0          0.0         -1.0   \n",
      "5             1.551423        0.0          0.0          0.0   \n",
      "6             0.463272        0.0          1.0         -1.0   \n",
      "7             0.052394        1.0          0.0         -2.0   \n",
      "8             0.071849        0.0          0.0          0.0   \n",
      "9             0.167764        0.0         -1.0          0.0   \n",
      "10           -0.264068        0.0          0.0          0.0   \n",
      "11           -1.201244        0.0         -1.0          0.0   \n",
      "12           -0.033609        0.0          0.0          1.0   \n",
      "13            0.149252        0.0          0.0          1.0   \n",
      "14           -1.302777        0.0          0.0         -1.0   \n",
      "15            0.005476        0.0         -1.0          3.0   \n",
      "16            0.160796        0.0          0.0          0.0   \n",
      "17            0.970346        1.0          1.0          0.0   \n",
      "18           -0.183779        0.0          0.0          0.0   \n",
      "19            0.980046        2.0          0.0          0.0   \n",
      "20           -0.734925        1.0          0.0          0.0   \n",
      "21            2.210658        0.0          0.0          0.0   \n",
      "22            0.247738        0.0         -1.0          0.0   \n",
      "23           -0.064905        0.0          0.0          0.0   \n",
      "24           -1.420340        0.0         -1.0          0.0   \n",
      "25           -0.138513        0.0          0.0          0.0   \n",
      "26           -0.021239       -1.0          0.0          1.0   \n",
      "27            0.518052        0.0          1.0          0.0   \n",
      "28            0.421202        0.0          0.0         -1.0   \n",
      "29           -0.433362        0.0          0.0          0.0   \n",
      "...                ...        ...          ...          ...   \n",
      "43285       207.896790        5.0         45.0        160.0   \n",
      "43286       242.879423        5.0         55.0        170.0   \n",
      "43287       251.874958        5.0         65.0        180.0   \n",
      "43288       260.870492        4.0         75.0        190.0   \n",
      "43289       199.900760        5.0         35.0        150.0   \n",
      "43290       207.896790        5.0         45.0        160.0   \n",
      "43291       242.879423        5.0         55.0        170.0   \n",
      "43292       251.874958        5.0         65.0        180.0   \n",
      "43293       260.870492        4.0         75.0        190.0   \n",
      "43294       199.061702        5.0         35.0        150.0   \n",
      "43295       207.024170        5.0         45.0        160.0   \n",
      "43296       241.859968        5.0         55.0        170.0   \n",
      "43297       250.817745        5.0         65.0        180.0   \n",
      "43298       259.775522        4.0         75.0        190.0   \n",
      "43299       198.322639        5.0         35.0        150.0   \n",
      "43300       206.255544        5.0         45.0        160.0   \n",
      "43301       240.962006        5.0         55.0        170.0   \n",
      "43302       249.886525        5.0         65.0        180.0   \n",
      "43303       258.811043        4.0         75.0        190.0   \n",
      "43304       197.371529        5.0         35.0        150.0   \n",
      "43305       205.266391        5.0         45.0        160.0   \n",
      "43306       239.806408        5.0         55.0        170.0   \n",
      "43307       248.688127        5.0         65.0        180.0   \n",
      "43308       257.569846        4.0         75.0        190.0   \n",
      "43309       196.209392        5.0         35.0        150.0   \n",
      "43310       204.057767        5.0         45.0        160.0   \n",
      "43311       238.394411        5.0         55.0        170.0   \n",
      "43312       247.223833        5.0         65.0        180.0   \n",
      "43313       256.053256        4.0         75.0        190.0   \n",
      "43314       194.837468        5.0         35.0        150.0   \n",
      "\n",
      "      scheduled_maintenance  unscheduled_maintenance   updated_utc  \n",
      "0                       0.0                      1.0  1.585498e+18  \n",
      "1                       0.0                      0.0  1.585498e+18  \n",
      "2                       1.0                      0.0  1.585505e+18  \n",
      "3                       1.0                      0.0  1.585505e+18  \n",
      "4                       0.0                      0.0  1.585505e+18  \n",
      "5                       0.0                      0.0  1.585505e+18  \n",
      "6                       1.0                      0.0  1.585505e+18  \n",
      "7                       0.0                     -1.0  1.585505e+18  \n",
      "8                       0.0                      0.0  1.585505e+18  \n",
      "9                       1.0                      0.0  1.585505e+18  \n",
      "10                      0.0                      0.0  1.585505e+18  \n",
      "11                      0.0                      1.0  1.585505e+18  \n",
      "12                      2.0                      0.0  1.585505e+18  \n",
      "13                      0.0                      0.0  1.585505e+18  \n",
      "14                      0.0                      0.0  1.585505e+18  \n",
      "15                     -1.0                      0.0  1.585505e+18  \n",
      "16                      0.0                      0.0  1.585505e+18  \n",
      "17                      1.0                      0.0  1.585505e+18  \n",
      "18                     -1.0                      0.0  1.585505e+18  \n",
      "19                      0.0                      0.0  1.585505e+18  \n",
      "20                     -1.0                      1.0  1.585505e+18  \n",
      "21                      1.0                      0.0  1.585505e+18  \n",
      "22                      0.0                      0.0  1.585505e+18  \n",
      "23                      0.0                      0.0  1.585505e+18  \n",
      "24                      0.0                      0.0  1.585505e+18  \n",
      "25                      0.0                     -1.0  1.585505e+18  \n",
      "26                      0.0                     -1.0  1.585505e+18  \n",
      "27                      0.0                      0.0  1.585505e+18  \n",
      "28                      0.0                      0.0  1.585505e+18  \n",
      "29                      0.0                      0.0  1.585505e+18  \n",
      "...                     ...                      ...           ...  \n",
      "43285                   0.0                      0.0  1.588113e+18  \n",
      "43286                   0.0                      0.0  1.588113e+18  \n",
      "43287                   0.0                      0.0  1.588113e+18  \n",
      "43288                   1.0                      0.0  1.588113e+18  \n",
      "43289                   0.0                      0.0  1.588113e+18  \n",
      "43290                   0.0                      0.0  1.588113e+18  \n",
      "43291                   0.0                      0.0  1.588113e+18  \n",
      "43292                   0.0                      0.0  1.588113e+18  \n",
      "43293                   1.0                      0.0  1.588113e+18  \n",
      "43294                   0.0                      0.0  1.588113e+18  \n",
      "43295                   0.0                      0.0  1.588113e+18  \n",
      "43296                   0.0                      0.0  1.588113e+18  \n",
      "43297                   0.0                      0.0  1.588113e+18  \n",
      "43298                   1.0                      0.0  1.588113e+18  \n",
      "43299                   0.0                      0.0  1.588114e+18  \n",
      "43300                   0.0                      0.0  1.588114e+18  \n",
      "43301                   0.0                      0.0  1.588114e+18  \n",
      "43302                   0.0                      0.0  1.588114e+18  \n",
      "43303                   1.0                      0.0  1.588114e+18  \n",
      "43304                   0.0                      0.0  1.588114e+18  \n",
      "43305                   0.0                      0.0  1.588114e+18  \n",
      "43306                   0.0                      0.0  1.588114e+18  \n",
      "43307                   0.0                      0.0  1.588114e+18  \n",
      "43308                   1.0                      0.0  1.588114e+18  \n",
      "43309                   0.0                      0.0  1.588114e+18  \n",
      "43310                   0.0                      0.0  1.588114e+18  \n",
      "43311                   0.0                      0.0  1.588114e+18  \n",
      "43312                   0.0                      0.0  1.588114e+18  \n",
      "43313                   1.0                      0.0  1.588114e+18  \n",
      "43314                   0.0                      0.0  1.588115e+18  \n",
      "\n",
      "[43315 rows x 30 columns]\n",
      "Get df_to_plot\n"
     ]
    },
    {
     "data": {
      "image/png": "[encoded data removed]",
      "text/plain": [
       "<Figure size 864x864 with 1 Axes>"
      ]
     },
     "metadata": {
      "needs_background": "light"
     },
     "output_type": "display_data"
    }
   ],
   "source": [
    "# Merge s_df anomaly _scores to the original df. \n",
    "# Add missing deviceid columns to scored s_df\n",
    "s_df['deviceid'] = '73001'\n",
    "# Get the original evt_timestamp from the original df and insert it to the scored df so that you avoid column mismatch when merging.\n",
    "#s_df.insert(1, 'evt_timestamp', df.loc[df['deviceid'] == '73001', ['evt_timestamp']], True)\n",
    "s_df['evt_timestamp'] = pd.to_datetime(df['evt_timestamp'])\n",
    "\n",
    "print(\"\\n -- Right after adding deviceid column and evt_timestamp  -- \\n\")\n",
    "print(s_df)\n",
    "    \n",
    "# combine_first the s_df anomaly _scores column to the original df. \n",
    "df_combine_first = s_df.combine_first(df)\n",
    "print('df_combine_first')\n",
    "print (df_combine_first)\n",
    "#print (\"df_combine_first.dtypes\")\n",
    "#print (df_combine_first.dtypes)\n",
    "\n",
    "print('Get df_to_plot')\n",
    "\n",
    "# Create figure and plot raw data \n",
    "#import matplotlib.pyplot as plt\n",
    "#fig, ax = plt.subplots(figsize=(12, 12))\n",
    "# Add x-axis and y-axis use ax.plot(data time for x axis, pressure for y axis) \n",
    "# For line use ax.plot and for bar chart use: ax.bar\n",
    "#ax.plot(df_combine_first[(df_combine_first.deviceid == '73001') & (df_combine_first['evt_timestamp'] < pd.Timestamp('2020-03-31 07:41:14.687196'))].sort_values(by='evt_timestamp',ascending=True)['evt_timestamp'],\n",
    "#        df_combine_first[(df_combine_first.deviceid == '73001') & (df_combine_first['evt_timestamp'] < pd.Timestamp('2020-03-31 07:41:14.687196'))].sort_values(by='evt_timestamp',ascending=True)['drvn_p1'],\n",
    "#        color='purple')\n",
    "#ax.plot(df_combine_first[(df_combine_first.deviceid == '73001') & (df_combine_first['evt_timestamp'] < pd.Timestamp('2020-03-31 07:41:14.687196'))].sort_values(by='evt_timestamp',ascending=True)['evt_timestamp'],\n",
    "#        df_combine_first[(df_combine_first.deviceid == '73001') & (df_combine_first['evt_timestamp'] < pd.Timestamp('2020-03-31 07:41:14.687196'))].sort_values(by='evt_timestamp',ascending=True)['anomaly_score']*10,\n",
    "#        color='red')\n",
    "# Set title and labels for axes\n",
    "#ax.set(xlabel=\"Date\",\n",
    "#       ylabel=\"Score Value or Pressure (psi)\",\n",
    "#       title=\"Pressure\\n and Anomaly Score\")\n",
    "\n",
    " # Validate you are getting good data for a single asset by plotting data\n",
    "import matplotlib.ticker as ticker\n",
    "import matplotlib.pyplot as plt\n",
    "import matplotlib.dates as mdates\n",
    "\n",
    "from matplotlib.backends.backend_pdf import PdfPages\n",
    "# Create figure and plot space\n",
    "fig, ax = plt.subplots(figsize=(12, 12))\n",
    "\n",
    "# Add x-axis and y-axis use ax.plot for line and ax.bar for bar chart\n",
    "ax.plot(df_combine_first.loc[(df_combine_first.deviceid == '73001') & (df_combine_first.evt_timestamp < pd.Timestamp('2020-04-10 07:41:14.687196'))].sort_values(by='evt_timestamp',ascending=True)['evt_timestamp'],\n",
    "       df_combine_first.loc[(df_combine_first.deviceid == '73001') & (df_combine_first.evt_timestamp < pd.Timestamp('2020-04-10 07:41:14.687196'))].sort_values(by='evt_timestamp',ascending=True)['drvn_p1'],\n",
    "       color='purple')\n",
    "ax.plot(df_combine_first.loc[(df_combine_first.deviceid == '73001') & (df_combine_first.evt_timestamp < pd.Timestamp('2020-04-10 07:41:14.687196'))].sort_values(by='evt_timestamp',ascending=True)['evt_timestamp'],\n",
    "       df_combine_first.loc[(df_combine_first.deviceid == '73001') & (df_combine_first.evt_timestamp < pd.Timestamp('2020-04-10 07:41:14.687196'))].sort_values(by='evt_timestamp',ascending=True)['anomaly_score'],\n",
    "       color='red')\n",
    "\n",
    "# Set title and labels for axes\n",
    "ax.set(xlabel=\"Date\",\n",
    "       ylabel=\"drvn_p1 (psi) & Anomaly Score\",\n",
    "       title=\"Pressure\\n Anomaly Detection\")\n",
    "\n",
    "plt.show()\n",
    "\n"
   ]
  },
  {
   "cell_type": "code",
   "execution_count": 131,
   "metadata": {},
   "outputs": [
    {
     "name": "stderr",
     "output_type": "stream",
     "text": [
      "\n",
      "2020-05-09 21:00:29,301 - ModelCollection - INFO - \n",
      "In case of either no query param passed  or 'async':'false' is passed\n"
     ]
    },
    {
     "name": "stdout",
     "output_type": "stream",
     "text": [
      "\n",
      "\n",
      "#######################################################################################\n",
      "\n",
      "Synchronous deployment creation for uid: '70200bf8-a413-44ba-98cd-32d7bb4f936d' started\n",
      "\n",
      "#######################################################################################\n",
      "\n",
      "\n",
      "INITIALIZING\n",
      "DEPLOY_SUCCESS\n",
      "\n",
      "\n",
      "------------------------------------------------------------------------------------------------\n",
      "Successfully finished deployment creation, deployment_uid='a42884ac-7c85-46c1-ad62-a0c02ae104a3'\n",
      "------------------------------------------------------------------------------------------------\n",
      "\n",
      "\n",
      "model invocation endpoint: https://us-south.ml.cloud.ibm.com/v3/wml_instances/da1a8e1e-84bd-483d-bf4d-14f43b3b7a51/deployments/a42884ac-7c85-46c1-ad62-a0c02ae104a3/online\n",
      "Place below line in .env file like so\n",
      "WATSON_ML_DEPLOYMENT_ID=a42884ac-7c85-46c1-ad62-a0c02ae104a3\n"
     ]
    }
   ],
   "source": [
    "## publish model\n",
    "\n",
    "# create WML client\n",
    "wml_creds_path = '/Users/carlos.ferreira1ibm.com/ws/isolation-forest/wml_credentials.json'\n",
    "wml_credentials = json.loads(open(wml_creds_path).read())\n",
    "client = WatsonMachineLearningAPIClient( wml_credentials )\n",
    "\n",
    "sk_version = sklearn.__version__\n",
    "metadata = {\n",
    "    client.repository.ModelMetaNames.FRAMEWORK_VERSION: 'scikit-learn',\n",
    "    client.repository.ModelMetaNames.FRAMEWORK_VERSION: sk_version,\n",
    "    client.repository.ModelMetaNames.NAME: 'anomaly_model',\n",
    "    client.repository.ModelMetaNames.RUNTIME_NAME: 'python',\n",
    "    client.repository.ModelMetaNames.RUNTIME_VERSION: '3.6'\n",
    "}\n",
    "\n",
    "# upload pipeline \n",
    "model_details_inmem = client.repository.store_model( pipeline, meta_props=metadata)\n",
    "model_id_inmem = model_details_inmem[\"metadata\"][\"guid\"]\n",
    "deployment_details_inmem = client.deployments.create( artifact_uid=model_id_inmem, name=\"anomaly_model\" )\n",
    "deployment_id = deployment_details_inmem[\"metadata\"][\"guid\"]\n",
    "model_endpoint_url_inmem = client.deployments.get_scoring_url( deployment_details_inmem )\n",
    "print(\"model invocation endpoint: \" + model_endpoint_url_inmem)\n",
    "print(\"Place below line in .env file like so\")\n",
    "print(\"WATSON_ML_DEPLOYMENT_ID=\" + deployment_id) # TODO, need to confirm notebook will reload .env file. Or just change from .env to mem\n"
   ]
  },
  {
   "cell_type": "code",
   "execution_count": null,
   "metadata": {},
   "outputs": [],
   "source": [
    "from shell.functions import IsolationForestModel\n",
    "db.register_functions([IsolationForestModel], force_preinstall=True)"
   ]
  },
  {
   "cell_type": "code",
   "execution_count": null,
   "metadata": {},
   "outputs": [],
   "source": [
    "WATSON_ML_ENDPOINT = settings.WATSON_ML_ENDPOINT\n",
    "WATSON_ML_INSTANCE_ID = settings.WATSON_ML_INSTANCE_ID\n",
    "WATSON_ML_APIKEY = settings.WATSON_ML_APIKEY\n",
    "WATSON_ML_DEPLOYMENT_ID = settings.WATSON_ML_DEPLOYMENT_ID\n",
    "\n",
    "IAM_UID = settings.IAM_UID\n",
    "IAM_PASSWORD = settings.IAM_PASSWORD\n",
    "\n",
    "INPUT_COLUMNS = settings.INPUT_COLUMNS or []\n",
    "if INPUT_COLUMNS and (len(INPUT_COLUMNS) > 0):\n",
    "    INPUT_COLUMNS = INPUT_COLUMNS.replace(' ', '').split(',')\n",
    "else:\n",
    "    INPUT_COLUMNS = []\n",
    "\n",
    "entity_name = 'Equipment'\n",
    "INPUT_COLUMNS = ['drvn_p1', 'drvr_rpm']\n",
    "WATSON_ML_DEPLOYMENT_ID='f19b168b-11b9-4bb2-a31b-cce44eff5311'\n",
    "\n",
    "entity = EntityType(entity_name, db,\n",
    "                # following columns can be dynamically generated based on meters associated with each asset\n",
    "                IsolationForestModel(\n",
    "                                wml_endpoint=WATSON_ML_ENDPOINT,\n",
    "                                instance_id=WATSON_ML_INSTANCE_ID,\n",
    "                                deployment_id=WATSON_ML_DEPLOYMENT_ID,\n",
    "                                apikey=WATSON_ML_APIKEY,\n",
    "                                input_columns=INPUT_COLUMNS,\n",
    "                                output_item = 'anomaly_score'),\n",
    "                **{\n",
    "                  '_timestamp' : 'evt_timestamp',\n",
    "                  '_db_schema' : db_schema}\n",
    ")\n",
    "entity.exec_local_pipeline()\n"
   ]
  },
  {
   "cell_type": "code",
   "execution_count": null,
   "metadata": {},
   "outputs": [],
   "source": [
    "'''\n",
    "\n",
    "\n",
    "\n",
    "\n",
    "\n",
    "\n",
    "\n",
    "\n",
    "\n",
    "\n",
    "\n",
    "'''\n",
    "\n"
   ]
  },
  {
   "cell_type": "code",
   "execution_count": null,
   "metadata": {},
   "outputs": [],
   "source": []
  },
  {
   "cell_type": "code",
   "execution_count": null,
   "metadata": {},
   "outputs": [],
   "source": [
    "entity = EntityType('kb_anomaly', db,\n",
    "                    Column('deviceid',String(50)),\n",
    "                    Column('anomaly_score', Integer()),\n",
    "                    Column(\"torque\", Integer()),\n",
    "                    Column(\"acc\", Integer()),\n",
    "                    Column(\"load\", Integer()),\n",
    "                    Column(\"tool_type\", Integer()),\n",
    "                    Column(\"speed\", Float()),\n",
    "                    Column(\"travel_time\", Float()),\n",
    "                    **{\n",
    "                      '_timestamp' : 'evt_timestamp',\n",
    "                      # '_production_mode': False,\n",
    "                      '_db_schema' : db_schema}\n",
    ")\n",
    "\n",
    "entity.register(raise_error=False)"
   ]
  },
  {
   "cell_type": "code",
   "execution_count": null,
   "metadata": {},
   "outputs": [],
   "source": []
  },
  {
   "cell_type": "code",
   "execution_count": 3,
   "metadata": {},
   "outputs": [
    {
     "name": "stderr",
     "output_type": "stream",
     "text": [
      "\n",
      "2020-04-02 22:58:28,414 - iotfunctions.db - DEBUG - \n",
      "<module 'custom.functions' from '/Users/kkbankol@us.ibm.com/projects/maximo_anomaly/custom/functions.py'> is preinstalled False\n",
      "\n",
      "2020-04-02 22:58:28,415 - iotfunctions.base - DEBUG - \n",
      "Looking for item values for {'name': 'wml_endpoint', 'type': 'CONSTANT', 'dataType': 'LITERAL', 'description': 'Endpoint to WML service where model is hosted', 'tags': ['TEXT'], 'required': True, 'values': None}\n",
      "\n",
      "2020-04-02 22:58:28,416 - iotfunctions.base - DEBUG - \n",
      "Looking for item values for {'name': 'instance_id', 'type': 'CONSTANT', 'dataType': 'LITERAL', 'description': 'Instance ID for WML model', 'tags': ['TEXT'], 'required': True, 'values': None}\n",
      "\n",
      "2020-04-02 22:58:28,417 - iotfunctions.base - DEBUG - \n",
      "Looking for item values for {'name': 'deployment_id', 'type': 'CONSTANT', 'dataType': 'LITERAL', 'description': 'Deployment ID for WML model', 'tags': ['TEXT'], 'required': True, 'values': None}\n",
      "\n",
      "2020-04-02 22:58:28,418 - iotfunctions.base - DEBUG - \n",
      "Looking for item values for {'name': 'apikey', 'type': 'CONSTANT', 'dataType': 'LITERAL', 'description': 'IBM Cloud API Key', 'tags': ['TEXT'], 'required': True, 'values': None}\n",
      "\n",
      "2020-04-02 22:58:28,418 - iotfunctions.base - DEBUG - \n",
      "Looking for item values for {'name': 'input_columns', 'type': 'CONSTANT', 'dataType': 'LITERAL', 'description': 'Features to load from entity rows', 'tags': ['TEXT'], 'required': True, 'values': None}\n",
      "\n",
      "2020-04-02 22:58:28,419 - iotfunctions.base - WARNING - \n",
      "Mismatch between function metadata and function args.. Args are {'deployment_id', 'apikey', 'input_columns', 'output_item', 'wml_endpoint', 'instance_id'}.. UI metadata is {'deployment_id', 'apikey', 'body', 'column_map', 'input_columns', 'output_item', 'wml_endpoint', 'headers', 'instance_id'}.\n",
      "\n",
      "2020-04-02 22:58:28,419 - iotfunctions.base - WARNING - \n",
      "Mismatch between function metadata and function args.. Args are {'deployment_id', 'apikey', 'input_columns', 'output_item', 'wml_endpoint', 'instance_id'}.. UI metadata is {'deployment_id', 'apikey', 'body', 'column_map', 'input_columns', 'output_item', 'wml_endpoint', 'headers', 'instance_id'}.\n",
      "\n",
      "2020-04-02 22:58:28,807 - iotfunctions.db - DEBUG - \n",
      "Http request client error. status: 404\n",
      "\n",
      "2020-04-02 22:58:28,807 - iotfunctions.db - DEBUG - \n",
      "url: https://api-beta.connectedproducts.internetofthings.ibmcloud.com/api/catalog/v1/Monitor-Demo/function/CustomMLModel\n",
      "\n",
      "2020-04-02 22:58:28,808 - iotfunctions.db - DEBUG - \n",
      "payload: b'{\"name\": \"CustomMLModel\", \"description\": \"\\\\n    Load entity data, forward to a custom anomaly detection model hosted in Watson Machine Learning service.\\\\n    Response returns index of rows that are classified as an anomaly, as well as the confidence score\\\\n    \", \"category\": \"TRANSFORMER\", \"moduleAndTargetName\": \"custom.functions.CustomMLModel\", \"url\": \"git+https://github.com/IBM/iot-analytics-anomaly@\", \"input\": [{\"name\": \"wml_endpoint\", \"type\": \"CONSTANT\", \"dataType\": \"LITERAL\", \"description\": \"Endpoint to WML service where model is hosted\", \"tags\": [\"TEXT\"], \"required\": true, \"values\": null}, {\"name\": \"instance_id\", \"type\": \"CONSTANT\", \"dataType\": \"LITERAL\", \"description\": \"Instance ID for WML model\", \"tags\": [\"TEXT\"], \"required\": true, \"values\": null}, {\"name\": \"deployment_id\", \"type\": \"CONSTANT\", \"dataType\": \"LITERAL\", \"description\": \"Deployment ID for WML model\", \"tags\": [\"TEXT\"], \"required\": true, \"values\": null}, {\"name\": \"apikey\", \"type\": \"CONSTANT\", \"dataType\": \"LITERAL\", \"description\": \"IBM Cloud API Key\", \"tags\": [\"TEXT\"], \"required\": true, \"values\": null}, {\"name\": \"input_columns\", \"type\": \"CONSTANT\", \"dataType\": \"LITERAL\", \"description\": \"Features to load from entity rows\", \"tags\": [\"TEXT\"], \"required\": true, \"values\": null}], \"output\": [{\"name\": \"output_item\", \"dataType\": \"BOOLEAN\", \"description\": \"Function returns as boolean status flag indicating successful execution\", \"tags\": []}], \"incremental_update\": null, \"tags\": null}'\n",
      "\n",
      "2020-04-02 22:58:28,809 - iotfunctions.db - DEBUG - \n",
      "http response: b'{\"url\":\"https://api-beta.connectedproducts.internetofthings.ibmcloud.com/api/catalog/v1/Monitor-Demo/function/CustomMLModel\",\"ex\":\"Catalog function not found!\"}'\n",
      "\n",
      "2020-04-02 22:58:29,052 - iotfunctions.db - DEBUG - \n",
      "http request successful. status 200\n"
     ]
    },
    {
     "data": {
      "text/plain": [
       "''"
      ]
     },
     "execution_count": 3,
     "metadata": {},
     "output_type": "execute_result"
    }
   ],
   "source": [
    "# df = pd.read_csv('/Users/carlos.ferreira1ibm.com/ws/isolation-forest/cf_anomaly_dump.csv')\n",
    "df = db.read_table(table_name='Equipment', schema=db_schema)\n",
    "df.head()\n",
    "df['devicetype'] = \"Equipment\"\n",
    "# df.head()\n",
    "df.to_csv('/Users/carlos.ferreira1ibm.com/ws/isolation-forest/cf_anomaly_dump.csv')"
   ]
  },
  {
   "cell_type": "code",
   "execution_count": 139,
   "metadata": {},
   "outputs": [
    {
     "data": {
      "text/plain": [
       "{'apikey': 'rRjjtJevY3Hk9X7lD3tC8ay6xkBJmTiIT_oKJkCaVLKe',\n",
       " 'iam_apikey_description': 'Auto-generated for key 42841805-1acb-4363-9b91-01879debc973',\n",
       " 'iam_apikey_name': 'Service credentials-1',\n",
       " 'iam_role_crn': 'crn:v1:bluemix:public:iam::::serviceRole:Writer',\n",
       " 'iam_serviceid_crn': 'crn:v1:bluemix:public:iam-identity::a/f65bf29af08809df5174fedfe7bf9d3b::serviceid:ServiceId-2e8b108b-d201-4a45-a33b-4d306210e574',\n",
       " 'instance_id': 'da1a8e1e-84bd-483d-bf4d-14f43b3b7a51',\n",
       " 'url': 'https://us-south.ml.cloud.ibm.com'}"
      ]
     },
     "execution_count": 139,
     "metadata": {},
     "output_type": "execute_result"
    }
   ],
   "source": [
    "wml_credentials"
   ]
  },
  {
   "cell_type": "code",
   "execution_count": null,
   "metadata": {},
   "outputs": [],
   "source": [
    "# generate simulation data\n",
    "## if we want to use simulation data, run following. this will also create 5 sample entity instances\n",
    "entity_name = 'kb_anomaly'\n",
    "print(\"Generating sample data for \" + entity_name)\n",
    "entity.generate_data(days=2.0, drop_existing=True)\n"
   ]
  },
  {
   "cell_type": "code",
   "execution_count": null,
   "metadata": {},
   "outputs": [],
   "source": [
    "df = pd.read_csv('/Users/kkbankol@us.ibm.com/projects/maximo_anomaly/equipment_dump.csv')\n",
    "df['deviceid'].unique()\n",
    "\n",
    "unscored_rows_idx = df.loc[df['anomaly_score'] == 0, :].index\n",
    "df.iloc[unscored_rows_idx]\n",
    "# df.columns\n",
    "\n",
    "# write data to disk\n",
    "# entity_name = 'Equipment'\n",
    "# open(entity_name + '_dump.csv', 'w+').write(df.to_csv())"
   ]
  },
  {
   "cell_type": "code",
   "execution_count": null,
   "metadata": {},
   "outputs": [],
   "source": [
    "\n",
    "## create and register entity\n",
    "## only required if entity does not exist already\n",
    "if settings.ENTITY_NAME:\n",
    "    entity_name = settings.ENTITY_NAME\n",
    "\n",
    "if settings.INPUT_COLUMNS:\n",
    "    input_columns = settings.INPUT_COLUMNS.replace(' ', '').split(',')\n",
    "\n",
    "# if settings.OUTPUT_COLUMNS:\n",
    "#     output_columns = settings.OUTPUT_COLUMNS.replace(' ', '').split(',')\n",
    "# else:\n",
    "#     # defaulting\n",
    "#     output_columns = [Column('anomaly_score',Integer, default=0)]\n",
    "\n",
    "\n",
    "\n",
    "\n",
    "entity_columns = [Column('anomaly_score',Integer(), default=0)] + list(map(lambda x: Column(x, Float()), input_columns))  #   Column('anomaly_score', Integer()))\n",
    "\n",
    "print(entity_columns)\n",
    "\n",
    "entity_name = \"kb_anomaly_test1\"\n",
    "print(\"creating entity: \" + entity_name)\n",
    "\n",
    "entity = EntityType(entity_name, db,\n",
    "                    *entity_columns,\n",
    "                    **{\n",
    "                      '_timestamp' : 'evt_timestamp',\n",
    "                      '_db_schema' : db_schema}\n",
    "                   )\n",
    "print(\"Registering entity\")\n",
    "entity.register()\n",
    "print(\"Entity registered\")\n",
    "\n",
    "# entity.generate_data(days=2.0, drop_existing=True)\n",
    "\n",
    "\n"
   ]
  },
  {
   "cell_type": "code",
   "execution_count": null,
   "metadata": {},
   "outputs": [],
   "source": [
    "\n",
    "# reduce entity dataframe to relevant input columns\n",
    "if settings.INPUT_COLUMNS:\n",
    "    columns = (settings.INPUT_COLUMNS).split(', ')\n",
    "else:\n",
    "    columns = []\n",
    "\n",
    "    \n",
    "columns = ['drvn_flow', 'drvn_t1', 'drvn_t2', 'drvn_p1', 'drvn_p2']\n",
    "\n",
    "if len(columns) > 0:\n",
    "    print(\"filtering columns\")\n",
    "    print(columns)\n",
    "    s_df = df[columns]\n",
    "else:\n",
    "    print(\"using original dataframe\")\n",
    "    s_df = df\n",
    "\n",
    "print(s_df.head())\n",
    "\n",
    "# convert dataframe to 2d array (as expected by WML)\n",
    "rows = [list(r) for i,r in s_df.iterrows()]\n"
   ]
  }
 ],
 "metadata": {
  "kernelspec": {
   "display_name": "iotfunc",
   "language": "python",
   "name": "iotfunc"
  },
  "language_info": {
   "codemirror_mode": {
    "name": "ipython",
    "version": 3
   },
   "file_extension": ".py",
   "mimetype": "text/x-python",
   "name": "python",
   "nbconvert_exporter": "python",
   "pygments_lexer": "ipython3",
   "version": "3.7.6"
  }
 },
 "nbformat": 4,
 "nbformat_minor": 4
}
